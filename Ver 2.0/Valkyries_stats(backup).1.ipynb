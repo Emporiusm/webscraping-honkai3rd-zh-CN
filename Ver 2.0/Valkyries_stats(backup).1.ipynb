{
 "cells": [
  {
   "cell_type": "code",
   "execution_count": null,
   "metadata": {
    "tags": []
   },
   "outputs": [],
   "source": [
    "from bs4 import BeautifulSoup\n",
    "import re\n",
    "import pandas as pd\n",
    "import urllib.request\n",
    "from urllib.request import urlopen\n",
    "import sys\n",
    "import pickle\n",
    "import openpyxl\n",
    "import os"
   ]
  },
  {
   "cell_type": "code",
   "execution_count": null,
   "metadata": {},
   "outputs": [],
   "source": [
    "pages       = range(100)\n",
    "url_part    = 'https://3rdguide.com/web/valk/detail?id='\n",
    "urls        = [url_part + str(page) for page in pages]\n",
    "souplist    = []\n",
    "df_vstats   = pd.DataFrame()\n",
    "df          = pd.DataFrame()\n",
    "path        = os.path.abspath(os.getcwd())"
   ]
  },
  {
   "cell_type": "code",
   "execution_count": null,
   "metadata": {},
   "outputs": [],
   "source": [
    "def loadweb(urls):\n",
    "    htmls       = [urlopen(url).read() for url in urls]\n",
    "    souplist    = [BeautifulSoup(html.decode('utf-8'),'html.parser') for html in htmls]\n",
    "    return souplist"
   ]
  },
  {
   "cell_type": "code",
   "execution_count": null,
   "metadata": {},
   "outputs": [],
   "source": [
    "def savesoup(souplist):\n",
    "    sys.setrecursionlimit(100000)\n",
    "    print('Now saving...souplist as pickle file')\n",
    "    with open ('souplist_skills.pkl','wb') as chowder:\n",
    "        pickle.dump(souplist,chowder)\n",
    "        print('Saving completed!')\n",
    "    sys.setrecursionlimit(1000)"
   ]
  },
  {
   "cell_type": "code",
   "execution_count": null,
   "metadata": {},
   "outputs": [],
   "source": [
    "def loadsoup(souplist_pkl):\n",
    "    print('Now loading souplist from pickle file...')\n",
    "    with open('souplist_skills.pkl','rb') as chowder:\n",
    "        souplist = pickle.load(chowder)\n",
    "    return souplist\n",
    "    return print('Loading completed!')"
   ]
  },
  {
   "cell_type": "code",
   "execution_count": null,
   "metadata": {
    "tags": []
   },
   "outputs": [],
   "source": [
    "def soup2skills(souplist):\n",
    "    df = pd.DataFrame()\n",
    "    for soup in souplist:\n",
    "        sk        = [sk.get_text()      for sk      in soup.findAll('p',    class_='item1')     ]\n",
    "        skname    = [skname.get_text()  for skname  in soup.findAll('p',    class_='item2')     ]\n",
    "        skdesc    = [skdesc.get_text()  for skdesc  in soup.findAll('p',    class_='msg')       ]\n",
    "        sk1name   = [sk1name.get_text() for sk1name in soup.findAll('p',    class_='item1_1')   ]\n",
    "        sk1desc   = [sk1desc.get_text() for sk1desc in soup.findAll('p',    class_='item1_2')   ]\n",
    "        sk1stat   = [sk1stat.get_text() for sk1stat in soup.findAll('div',  class_='item3')     ]\n",
    "        sk2name   = [sk2name.get_text() for sk2name in soup.findAll('p',    class_='item1_1')   ]\n",
    "        sk2desc   = [sk2desc.get_text() for sk2desc in soup.findAll('p',    class_='item1_2')   ]\n",
    "        sk2stat   = [sk2stat.get_text() for sk2stat in soup.findAll('div',  class_='item3')     ]\n",
    "        sk3name   = [sk3name.get_text() for sk3name in soup.findAll('p',    class_='item1_1')   ]\n",
    "        sk3desc   = [sk3desc.get_text() for sk3desc in soup.findAll('p',    class_='item1_2')   ]\n",
    "        sk3stat   = [sk3stat.get_text() for sk3stat in soup.findAll('div',  class_='item3')     ]\n",
    "        df = pd.append(\n",
    "            [\n",
    "                sk,\n",
    "                skname,\n",
    "                skdesc,\n",
    "                sk1name,\n",
    "                sk1desc,\n",
    "                sk1stat,\n",
    "                sk2name,\n",
    "                sk2desc,\n",
    "                sk2stat,\n",
    "                sk3name,\n",
    "                sk3desc,\n",
    "                sk3stat\n",
    "            ]\n",
    "        )\n",
    "    return df"
   ]
  },
  {
   "cell_type": "code",
   "execution_count": null,
   "metadata": {},
   "outputs": [],
   "source": []
  },
  {
   "cell_type": "code",
   "execution_count": null,
   "metadata": {},
   "outputs": [],
   "source": [
    "def savestats(df):\n",
    "    print('Now saving dataframe to pickle file...')\n",
    "    df.to_pickle('Skills.pkl')\n",
    "    print('Dataframe saving Completed!')"
   ]
  },
  {
   "cell_type": "code",
   "execution_count": null,
   "metadata": {},
   "outputs": [],
   "source": [
    "def loadstats(Valkyrie_pkl):\n",
    "    print('Now Loading pickle file to dataframe')\n",
    "    df = pd.read_pickle(Valkyrie_pkl)\n",
    "    print('Dataframe loading completed!')\n",
    "    return df_vstats"
   ]
  },
  {
   "cell_type": "code",
   "execution_count": null,
   "metadata": {},
   "outputs": [],
   "source": [
    "def refreshall(urls):\n",
    "    print('Refreshing Web Content...')\n",
    "    souplist = loadweb(urls)\n",
    "    df_vstats = soup2stats(souplist)\n",
    "    return df_vstats.to_excel('Valkyrie_skills.xlsx')\n",
    "    return savesoup(souplist)\n",
    "    return savestats(df_vstats)\n",
    "    return print('Task Completed!')"
   ]
  }
 ],
 "metadata": {
  "language_info": {
   "codemirror_mode": {
    "name": "ipython",
    "version": 3
   },
   "file_extension": ".py",
   "mimetype": "text/x-python",
   "name": "python",
   "nbconvert_exporter": "python",
   "pygments_lexer": "ipython3",
   "version": "3.7.7-final"
  },
  "orig_nbformat": 2,
  "kernelspec": {
   "name": "python37764bitwebscrapingconda7e4b416cfac74079af05761bd3c05317",
   "display_name": "Python 3.7.7 64-bit ('web_scraping': conda)"
  }
 },
 "nbformat": 4,
 "nbformat_minor": 2
}