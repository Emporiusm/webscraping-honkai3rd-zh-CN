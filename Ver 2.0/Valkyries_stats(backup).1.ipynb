{
 "cells": [
  {
   "cell_type": "code",
   "execution_count": 1,
   "metadata": {
    "tags": []
   },
   "outputs": [],
   "source": [
    "from bs4 import BeautifulSoup\n",
    "import re\n",
    "import pandas as pd\n",
    "import urllib.request\n",
    "from urllib.request import urlopen\n",
    "import sys\n",
    "import pickle\n",
    "import openpyxl\n",
    "import os"
   ]
  },
  {
   "cell_type": "code",
   "execution_count": 2,
   "metadata": {},
   "outputs": [],
   "source": [
    "pages       = range(100)\n",
    "url_part    = 'https://3rdguide.com/web/valk/detail?id='\n",
    "urls        = [url_part + str(page) for page in pages]\n",
    "souplist    = []\n",
    "df_vstats   = pd.DataFrame()\n",
    "df          = pd.DataFrame()\n",
    "path        = os.path.abspath(os.getcwd())"
   ]
  },
  {
   "cell_type": "code",
   "execution_count": 4,
   "metadata": {},
   "outputs": [],
   "source": [
    "def loadweb(urls):\n",
    "    history = {}\n",
    "    htmls       = [urlopen(url).read() for url in urls]\n",
    "    souplist    = [BeautifulSoup(html.decode('utf-8'),'html.parser') for html in htmls]\n",
    "    return souplist"
   ]
  },
  {
   "cell_type": "code",
   "execution_count": 7,
   "metadata": {},
   "outputs": [],
   "source": [
    "def savesoup(souplist):\n",
    "    sys.setrecursionlimit(100000)\n",
    "    print('Now saving...souplist as pickle file')\n",
    "    with open (souplist,'wb') as chowder:\n",
    "        pickle.dump(souplist,chowder)\n",
    "        print('Saving completed!')\n",
    "    sys.setrecursionlimit(1000)"
   ]
  },
  {
   "cell_type": "code",
   "execution_count": 19,
   "metadata": {},
   "outputs": [],
   "source": [
    "def loadsoup(souplist_pkl):\n",
    "    print('Now loading souplist from pickle file...')\n",
    "    with open('souplist.pkl','rb') as chowder:\n",
    "        souplist = pickle.load(chowder)\n",
    "    return souplist\n",
    "    return print('Loading completed!')"
   ]
  },
  {
   "cell_type": "code",
   "execution_count": 9,
   "metadata": {
    "tags": []
   },
   "outputs": [],
   "source": [
    "def soup2skills(souplist):\n",
    "    df = pd.DataFrame()\n",
    "    for soup in souplist:\n",
    "        skill_session_title = soup.findAll('p',class_='item1')\n",
    "        skill_\n",
    "    return df"
   ]
  },
  {
   "cell_type": "code",
   "execution_count": 10,
   "metadata": {},
   "outputs": [],
   "source": [
    "def savestats(df):\n",
    "    print('Now saving dataframe to pickle file...')\n",
    "    df.to_pickle('Valkyrie.pkl')\n",
    "    print('Dataframe saving Completed!')"
   ]
  },
  {
   "cell_type": "code",
   "execution_count": 11,
   "metadata": {},
   "outputs": [],
   "source": [
    "def loadstats(Valkyrie_pkl):\n",
    "    print('Now Loading pickle file to dataframe')\n",
    "    df = pd.read_pickle(Valkyrie_pkl)\n",
    "    print('Dataframe loading completed!')\n",
    "    return df_vstats"
   ]
  },
  {
   "cell_type": "code",
   "execution_count": 12,
   "metadata": {},
   "outputs": [],
   "source": [
    "def refreshall(urls):\n",
    "    print('Refreshing Web Content...')\n",
    "    souplist = loadweb(urls)\n",
    "    df_vstats = soup2stats(souplist)\n",
    "    return df_vstats.to_excel('Valkyrie_stats.xlsx')\n",
    "    return savesoup(souplist)\n",
    "    return savestats(df_vstats)\n",
    "    return print('Task Completed!')"
   ]
  }
 ],
 "metadata": {
  "language_info": {
   "codemirror_mode": {
    "name": "ipython",
    "version": 3
   },
   "file_extension": ".py",
   "mimetype": "text/x-python",
   "name": "python",
   "nbconvert_exporter": "python",
   "pygments_lexer": "ipython3",
   "version": "3.7.7-final"
  },
  "orig_nbformat": 2,
  "kernelspec": {
   "name": "python37764bitwebscrapingconda7e4b416cfac74079af05761bd3c05317",
   "display_name": "Python 3.7.7 64-bit ('web_scraping': conda)"
  }
 },
 "nbformat": 4,
 "nbformat_minor": 2
}