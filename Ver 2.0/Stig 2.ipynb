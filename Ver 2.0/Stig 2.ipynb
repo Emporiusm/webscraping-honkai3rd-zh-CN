{
 "cells": [
  {
   "cell_type": "code",
   "execution_count": 70,
   "metadata": {},
   "outputs": [],
   "source": [
    "# -*- coding: UTF-8 -*-\n",
    "\n",
    "#import the necessary libraries\n",
    "from bs4 import BeautifulSoup\n",
    "import re\n",
    "import pandas as pd\n",
    "import urllib.request\n",
    "from urllib.request import urlopen"
   ]
  },
  {
   "cell_type": "code",
   "execution_count": 81,
   "metadata": {},
   "outputs": [],
   "source": [
    "def webpage(pages):\n",
    "    ls = []\n",
    "    for page in range(pages):\n",
    "        url = 'https://3rdguide.com/web/stig/detail?id=' + str(page)\n",
    "        html = urlopen(url).read()\n",
    "        html = html.decode('utf-8')\n",
    "        soup = BeautifulSoup(html,'html.parser')\n",
    "        if type(soup) != None:\n",
    "            ls.append(soup)\n",
    "            print(setname + ' stored!')\n",
    "    return ls"
   ]
  },
  {
   "cell_type": "code",
   "execution_count": null,
   "metadata": {},
   "outputs": [],
   "source": []
  },
  {
   "cell_type": "code",
   "execution_count": 72,
   "metadata": {},
   "outputs": [],
   "source": [
    "def get_setname(x):\n",
    "    tag = 'p'\n",
    "    clas = \"mark-item-16 center\"\n",
    "    html = x.find(tag,class_=clas)\n",
    "    setname = html.get_text()\n",
    "    return setname"
   ]
  },
  {
   "cell_type": "code",
   "execution_count": 73,
   "metadata": {},
   "outputs": [],
   "source": [
    "def get_stig(x):\n",
    "    tag = 'div'\n",
    "    clas = 'stig-table'\n",
    "    stiglist = []\n",
    "    df = pd.DataFrame()\n",
    "    sr = pd.DataFrame()\n",
    "    hp = None\n",
    "    atk = None\n",
    "    dfs = None\n",
    "    crt = None\n",
    "    e = 1\n",
    "    for element in x.find_all(tag,class_=clas):\n",
    "        text = element.get_text().split(\"\\n\\n\\n\")\n",
    "        stigname = text[1]\n",
    "        stigstat = list(text[2].split(\"\\n\"))\n",
    "        hp = stigstat[0]\n",
    "        atk = stigstat[1]\n",
    "        dfs = stigstat[2]\n",
    "        crt = stigstat[3]\n",
    "        dic = {\n",
    "            e:[stigname,hp,atk,dfs,crt]\n",
    "        }\n",
    "        df = df.append(pd.DataFrame.from_dict(dic,orient='index',columns=['部位','生命','攻擊','防禦','會心']))\n",
    "        e = e + 1\n",
    "    df = df.reset_index(drop=True)\n",
    "    return df"
   ]
  },
  {
   "cell_type": "code",
   "execution_count": 74,
   "metadata": {},
   "outputs": [],
   "source": [
    "def set_setname(x):\n",
    "    df = pd.Series(dtype=str)\n",
    "    instances = len(get_stig(x))\n",
    "    result = []\n",
    "    for i in range(instances):\n",
    "        result.append(get_setname(x))\n",
    "    return result"
   ]
  },
  {
   "cell_type": "code",
   "execution_count": 75,
   "metadata": {},
   "outputs": [],
   "source": [
    "def get_desc(x):\n",
    "    tag = 'p'\n",
    "    clas = 'mark-item-19'\n",
    "    result = []\n",
    "    sr = pd.Series(dtype=str)\n",
    "    for element in x.find_all(tag,class_=clas):\n",
    "        text = element.get_text()\n",
    "        text = text.strip()\n",
    "        sr = sr.append(pd.Series(text,dtype=str))\n",
    "    sr = sr[1:]\n",
    "    return sr"
   ]
  },
  {
   "cell_type": "code",
   "execution_count": 76,
   "metadata": {},
   "outputs": [],
   "source": [
    "def frame(x):\n",
    "    dic_desc = {\n",
    "        '套裝':set_setname(x),\n",
    "        '能力':get_desc(x)\n",
    "    }\n",
    "    df = pd.DataFrame.from_dict(dic_desc,dtype=str).reset_index(drop=True)\n",
    "    df = df.join(get_stig(x),how='left')\n",
    "    df = df.filter(items=['套裝','部位','生命','攻擊','防禦','會心','能力'])\n",
    "    return df"
   ]
  },
  {
   "cell_type": "code",
   "execution_count": 77,
   "metadata": {},
   "outputs": [],
   "source": [
    "def setability(x):\n",
    "    if type(x) == None:\n",
    "        result = None\n",
    "        return result\n",
    "    else:\n",
    "        settwo = x.find('p',class_='mark-item-20').get_text()\n",
    "        setthree = x.find('p',class_='mark-item-20 mb60').get_text()\n",
    "        if len(setthree) == None and len(settwo) == None:\n",
    "            result = None\n",
    "            return result\n",
    "        elif len(setthree) == None and len(settwo) != None:\n",
    "            result = pd.DataFrame(\n",
    "                data=[get_setname(x)[0],'兩件套','','','','',settwo],\n",
    "                columns=['套裝','部位','生命','攻擊','防禦','會心','能力']\n",
    "                )\n",
    "            return result\n",
    "        elif len(setthree) != None and len(settwo) != None:\n",
    "            result = pd.DataFrame(\n",
    "                data=[[get_setname(x)[0],'兩件套','','','','',settwo.strip()],[get_setname(x)[0],'三件套','','','','',setthree.strip()]],\n",
    "                columns=['套裝','部位','生命','攻擊','防禦','會心','能力']\n",
    "            )\n",
    "            return result"
   ]
  },
  {
   "cell_type": "code",
   "execution_count": 78,
   "metadata": {},
   "outputs": [],
   "source": [
    "def compiling(x):\n",
    "    if type(setability(x)) == str:\n",
    "        df = frame(x)\n",
    "        return df\n",
    "    elif type(setability(x)) != str:\n",
    "        df = pd.concat([frame(x),setability(x)],axis=0)\n",
    "        return df"
   ]
  },
  {
   "cell_type": "code",
   "execution_count": 79,
   "metadata": {},
   "outputs": [],
   "source": [
    "def get_info(pages):\n",
    "    souplist = []\n",
    "    r = range(len(pages))\n",
    "    for page in r:\n",
    "        hotsoup = webpage(page) \n",
    "        souplist.append(hotsoup)\n",
    "    return souplist"
   ]
  },
  {
   "cell_type": "code",
   "execution_count": 85,
   "metadata": {},
   "outputs": [
    {
     "output_type": "stream",
     "name": "stdout",
     "text": "stored!\n萧云·红 stored!\n莎士比亚 stored!\n普朗克 stored!\n德古拉 stored!\n开普勒 stored!\n杏·玛尔 stored!\n叶卡捷琳娜（沙皇） stored!\n薛定谔 stored!\n泳装派对 stored!\n"
    },
    {
     "output_type": "error",
     "ename": "AttributeError",
     "evalue": "'dict' object has no attribute 'find'",
     "traceback": [
      "\u001b[0;31m---------------------------------------------------------------------------\u001b[0m",
      "\u001b[0;31mAttributeError\u001b[0m                            Traceback (most recent call last)",
      "\u001b[0;32m<ipython-input-85-360b6a897f55>\u001b[0m in \u001b[0;36m<module>\u001b[0;34m\u001b[0m\n\u001b[1;32m      1\u001b[0m \u001b[0mpages\u001b[0m \u001b[0;34m=\u001b[0m \u001b[0mwebpage\u001b[0m\u001b[0;34m(\u001b[0m\u001b[0;36m10\u001b[0m\u001b[0;34m)\u001b[0m\u001b[0;34m\u001b[0m\u001b[0;34m\u001b[0m\u001b[0m\n\u001b[0;32m----> 2\u001b[0;31m \u001b[0mframe\u001b[0m \u001b[0;34m=\u001b[0m \u001b[0mcompiling\u001b[0m\u001b[0;34m(\u001b[0m\u001b[0mpages\u001b[0m\u001b[0;34m)\u001b[0m\u001b[0;34m\u001b[0m\u001b[0;34m\u001b[0m\u001b[0m\n\u001b[0m\u001b[1;32m      3\u001b[0m \u001b[0minfo\u001b[0m \u001b[0;34m=\u001b[0m \u001b[0mget_indo\u001b[0m\u001b[0;34m(\u001b[0m\u001b[0mframe\u001b[0m\u001b[0;34m)\u001b[0m\u001b[0;34m\u001b[0m\u001b[0;34m\u001b[0m\u001b[0m\n",
      "\u001b[0;32m<ipython-input-78-4577ca90f469>\u001b[0m in \u001b[0;36mcompiling\u001b[0;34m(x)\u001b[0m\n\u001b[1;32m      1\u001b[0m \u001b[0;32mdef\u001b[0m \u001b[0mcompiling\u001b[0m\u001b[0;34m(\u001b[0m\u001b[0mx\u001b[0m\u001b[0;34m)\u001b[0m\u001b[0;34m:\u001b[0m\u001b[0;34m\u001b[0m\u001b[0;34m\u001b[0m\u001b[0m\n\u001b[0;32m----> 2\u001b[0;31m     \u001b[0;32mif\u001b[0m \u001b[0mtype\u001b[0m\u001b[0;34m(\u001b[0m\u001b[0msetability\u001b[0m\u001b[0;34m(\u001b[0m\u001b[0mx\u001b[0m\u001b[0;34m)\u001b[0m\u001b[0;34m)\u001b[0m \u001b[0;34m==\u001b[0m \u001b[0mstr\u001b[0m\u001b[0;34m:\u001b[0m\u001b[0;34m\u001b[0m\u001b[0;34m\u001b[0m\u001b[0m\n\u001b[0m\u001b[1;32m      3\u001b[0m         \u001b[0mdf\u001b[0m \u001b[0;34m=\u001b[0m \u001b[0mframe\u001b[0m\u001b[0;34m(\u001b[0m\u001b[0mx\u001b[0m\u001b[0;34m)\u001b[0m\u001b[0;34m\u001b[0m\u001b[0;34m\u001b[0m\u001b[0m\n\u001b[1;32m      4\u001b[0m         \u001b[0;32mreturn\u001b[0m \u001b[0mdf\u001b[0m\u001b[0;34m\u001b[0m\u001b[0;34m\u001b[0m\u001b[0m\n\u001b[1;32m      5\u001b[0m     \u001b[0;32melif\u001b[0m \u001b[0mtype\u001b[0m\u001b[0;34m(\u001b[0m\u001b[0msetability\u001b[0m\u001b[0;34m(\u001b[0m\u001b[0mx\u001b[0m\u001b[0;34m)\u001b[0m\u001b[0;34m)\u001b[0m \u001b[0;34m!=\u001b[0m \u001b[0mstr\u001b[0m\u001b[0;34m:\u001b[0m\u001b[0;34m\u001b[0m\u001b[0;34m\u001b[0m\u001b[0m\n",
      "\u001b[0;32m<ipython-input-77-37521e33be01>\u001b[0m in \u001b[0;36msetability\u001b[0;34m(x)\u001b[0m\n\u001b[1;32m      4\u001b[0m         \u001b[0;32mreturn\u001b[0m \u001b[0mresult\u001b[0m\u001b[0;34m\u001b[0m\u001b[0;34m\u001b[0m\u001b[0m\n\u001b[1;32m      5\u001b[0m     \u001b[0;32melse\u001b[0m\u001b[0;34m:\u001b[0m\u001b[0;34m\u001b[0m\u001b[0;34m\u001b[0m\u001b[0m\n\u001b[0;32m----> 6\u001b[0;31m         \u001b[0msettwo\u001b[0m \u001b[0;34m=\u001b[0m \u001b[0mx\u001b[0m\u001b[0;34m.\u001b[0m\u001b[0mfind\u001b[0m\u001b[0;34m(\u001b[0m\u001b[0;34m'p'\u001b[0m\u001b[0;34m,\u001b[0m\u001b[0mclass_\u001b[0m\u001b[0;34m=\u001b[0m\u001b[0;34m'mark-item-20'\u001b[0m\u001b[0;34m)\u001b[0m\u001b[0;34m.\u001b[0m\u001b[0mget_text\u001b[0m\u001b[0;34m(\u001b[0m\u001b[0;34m)\u001b[0m\u001b[0;34m\u001b[0m\u001b[0;34m\u001b[0m\u001b[0m\n\u001b[0m\u001b[1;32m      7\u001b[0m         \u001b[0msetthree\u001b[0m \u001b[0;34m=\u001b[0m \u001b[0mx\u001b[0m\u001b[0;34m.\u001b[0m\u001b[0mfind\u001b[0m\u001b[0;34m(\u001b[0m\u001b[0;34m'p'\u001b[0m\u001b[0;34m,\u001b[0m\u001b[0mclass_\u001b[0m\u001b[0;34m=\u001b[0m\u001b[0;34m'mark-item-20 mb60'\u001b[0m\u001b[0;34m)\u001b[0m\u001b[0;34m.\u001b[0m\u001b[0mget_text\u001b[0m\u001b[0;34m(\u001b[0m\u001b[0;34m)\u001b[0m\u001b[0;34m\u001b[0m\u001b[0;34m\u001b[0m\u001b[0m\n\u001b[1;32m      8\u001b[0m         \u001b[0;32mif\u001b[0m \u001b[0mlen\u001b[0m\u001b[0;34m(\u001b[0m\u001b[0msetthree\u001b[0m\u001b[0;34m)\u001b[0m \u001b[0;34m==\u001b[0m \u001b[0;32mNone\u001b[0m \u001b[0;32mand\u001b[0m \u001b[0mlen\u001b[0m\u001b[0;34m(\u001b[0m\u001b[0msettwo\u001b[0m\u001b[0;34m)\u001b[0m \u001b[0;34m==\u001b[0m \u001b[0;32mNone\u001b[0m\u001b[0;34m:\u001b[0m\u001b[0;34m\u001b[0m\u001b[0;34m\u001b[0m\u001b[0m\n",
      "\u001b[0;31mAttributeError\u001b[0m: 'dict' object has no attribute 'find'"
     ]
    }
   ],
   "source": [
    "pages = webpage(10)\n",
    "frame = compiling(pages)\n",
    "info = get_indo(frame)"
   ]
  },
  {
   "cell_type": "code",
   "execution_count": null,
   "metadata": {},
   "outputs": [],
   "source": []
  }
 ],
 "metadata": {
  "language_info": {
   "codemirror_mode": {
    "name": "ipython",
    "version": 3
   },
   "file_extension": ".py",
   "mimetype": "text/x-python",
   "name": "python",
   "nbconvert_exporter": "python",
   "pygments_lexer": "ipython3",
   "version": "3.7.7-final"
  },
  "orig_nbformat": 2,
  "kernelspec": {
   "name": "python37764bitwebscrapingconda7e4b416cfac74079af05761bd3c05317",
   "display_name": "Python 3.7.7 64-bit ('web_scraping': conda)"
  }
 },
 "nbformat": 4,
 "nbformat_minor": 2
}