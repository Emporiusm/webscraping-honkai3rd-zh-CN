{
 "cells": [
  {
   "cell_type": "code",
   "execution_count": 1,
   "metadata": {
    "tags": []
   },
   "outputs": [],
   "source": [
    "from bs4 import BeautifulSoup\n",
    "import re\n",
    "import pandas as pd\n",
    "import urllib.request\n",
    "from urllib.request import urlopen\n",
    "import sys\n",
    "import pickle\n",
    "import openpyxl\n",
    "import os"
   ]
  },
  {
   "cell_type": "code",
   "execution_count": 2,
   "metadata": {},
   "outputs": [],
   "source": [
    "pages       = range(100)\n",
    "url_part    = 'https://3rdguide.com/web/valk/detail?id='\n",
    "urls        = [url_part + str(page) for page in pages]\n",
    "souplist    = []\n",
    "df_vstats   = pd.DataFrame()\n",
    "df          = pd.DataFrame()\n",
    "path        = os.path.abspath(os.getcwd())"
   ]
  },
  {
   "cell_type": "code",
   "execution_count": 3,
   "metadata": {
    "tags": []
   },
   "outputs": [],
   "source": [
    "def info():\n",
    "    bowls   = len(souplist)\n",
    "    vstats  = round(len(df_vstats)/5)\n",
    "    print(f\"\"\"\n",
    "    Currently there are {bowls} bowls of soup in the souplist and the {vstats} sets of stats in the Dataframe buffer.\n",
    "\n",
    "    <<list of available functions>>\n",
    "\n",
    "    loadweb(urls)            - call function to synchronize with the web        - return  souplist:       list\n",
    "    savesoup(souplist)       - call function to save the list from loadweb      - output  souplist.pkl    pkl\n",
    "    loadsoup(souplist_pkl)   - call function to load local pickle file          - return  souplist:       list\n",
    "    soup2stats(souplist)     - call function to parse the souplist              - return  df_vstat:       dataframe\n",
    "    savestats(df_vstats)     - call function to save the dataframe              - output  Valkyrie.pkl    pkl\n",
    "    loadstats(Valkyrie_pkl)  - call function to load local pickle file          - return  df_vstats:      dataframe\"\"\")"
   ]
  },
  {
   "cell_type": "code",
   "execution_count": 4,
   "metadata": {},
   "outputs": [],
   "source": [
    "def loadweb(urls):\n",
    "    htmls       = [urlopen(url).read() for url in urls]\n",
    "    souplist    = [BeautifulSoup(html.decode('utf-8'),'html.parser') for html in htmls]\n",
    "    return souplist"
   ]
  },
  {
   "cell_type": "code",
   "execution_count": 5,
   "metadata": {},
   "outputs": [],
   "source": [
    "def savesoup(souplist):\n",
    "    sys.setrecursionlimit(100000)\n",
    "    print('Now saving...souplist as pickle file')\n",
    "    with open (path + '/pickles/Valkyrie.pkl','wb') as chowder:\n",
    "        pickle.dump(souplist,chowder)\n",
    "        print('Saving completed!')\n",
    "    sys.setrecursionlimit(1000)"
   ]
  },
  {
   "cell_type": "code",
   "execution_count": 6,
   "metadata": {},
   "outputs": [],
   "source": [
    "def loadsoup(souplist_pkl):\n",
    "    print('Now loading souplist from pickle file...')\n",
    "    souplist = pickle.load(souplist_pkl)\n",
    "    return souplist\n",
    "    print('Loading completed!')"
   ]
  },
  {
   "cell_type": "code",
   "execution_count": 35,
   "metadata": {
    "tags": []
   },
   "outputs": [],
   "source": [
    "def soup2stats(souplist):\n",
    "    df = pd.DataFrame()\n",
    "    for soup in souplist:\n",
    "        dic = {}\n",
    "        dic.update(enumerate(soup.stripped_strings))\n",
    "        name = dic.get(8)\n",
    "        if name.startswith('正在'):\n",
    "            pass\n",
    "        elif name in df.iloc[:0].values:\n",
    "            pass\n",
    "        else:\n",
    "            header      = ['name','rank','hp','sp','atk','dfs','crt']\n",
    "            b           = [name,'B']    + [dic.get(x) for x in range(14,19)]\n",
    "            a           = [name,'A']    + [dic.get(x) for x in range(19,24)]\n",
    "            s           = [name,'S']    + [dic.get(x) for x in range(24,29)]\n",
    "            ss          = [name,'SS']   + [dic.get(x) for x in range(29,34)]\n",
    "            sss         = [name,'SSS']  + [dic.get(x) for x in range(34,39)]\n",
    "            df          = df.append(pd.DataFrame(data=[b,a,s,ss,sss],columns=header))\n",
    "        df = df.reset_index(drop=True)\n",
    "    return df"
   ]
  },
  {
   "cell_type": "code",
   "execution_count": 8,
   "metadata": {},
   "outputs": [],
   "source": [
    "def savestats(df):\n",
    "    print('Now saving dataframe to pickle file...')\n",
    "    df.to_pickle(path + '/pickles/Valkyrie.pkl')\n",
    "    print('Dataframe saving Completed!')"
   ]
  },
  {
   "cell_type": "code",
   "execution_count": 9,
   "metadata": {},
   "outputs": [],
   "source": [
    "def loadstats(Valkyrie_pkl):\n",
    "    print('Now Loading pickle file to dataframe')\n",
    "    df = pd.read_pickle(Valkyrie_pkl)\n",
    "    print('Dataframe loading completed!')\n",
    "    return df_vstats"
   ]
  },
  {
   "cell_type": "code",
   "execution_count": 20,
   "metadata": {},
   "outputs": [
    {
     "output_type": "execute_result",
     "data": {
      "text/plain": "[]"
     },
     "metadata": {},
     "execution_count": 20
    }
   ],
   "source": [
    "souplist"
   ]
  },
  {
   "cell_type": "code",
   "execution_count": 38,
   "metadata": {},
   "outputs": [],
   "source": [
    "def refreshall(urls):\n",
    "    print('Refreshing Web Content...')\n",
    "    souplist = loadweb(urls)\n",
    "    df_vstats = soup2stats(souplist)\n",
    "    return df_vstats.to_excel(path + '/pickles/Valkyrie_stats.xlsx')\n",
    "    return savesoup(souplist)\n",
    "    return savestats(df_vstats)\n",
    "    print('Task Completed!')"
   ]
  },
  {
   "cell_type": "code",
   "execution_count": 23,
   "metadata": {},
   "outputs": [],
   "source": [
    "refreshall(urls)"
   ]
  },
  {
   "cell_type": "code",
   "execution_count": 36,
   "metadata": {
    "tags": []
   },
   "outputs": [],
   "source": [
    "df_vstats = soup2stats(souplist)"
   ]
  },
  {
   "cell_type": "code",
   "execution_count": 37,
   "metadata": {},
   "outputs": [
    {
     "output_type": "execute_result",
     "data": {
      "text/plain": "       name rank    hp   sp  atk  dfs crt\n0    御神装·勿忘    B    --   --   --   --  --\n1    御神装·勿忘    A    --   --   --   --  --\n2    御神装·勿忘    S  1203  235  451   96  48\n3    御神装·勿忘   SS  1403  245  526  112  56\n4    御神装·勿忘  SSS  1604  256  604  128  64\n..      ...  ...   ...  ...  ...  ...  ..\n265    朔夜观星    B    --   --   --   --  --\n266    朔夜观星    A  1002  224  334  120  35\n267    朔夜观星    S  1203  235  401  144  42\n268    朔夜观星   SS  1403  245  468  168  49\n269    朔夜观星  SSS  1604  256  535  192  56\n\n[270 rows x 7 columns]",
      "text/html": "<div>\n<style scoped>\n    .dataframe tbody tr th:only-of-type {\n        vertical-align: middle;\n    }\n\n    .dataframe tbody tr th {\n        vertical-align: top;\n    }\n\n    .dataframe thead th {\n        text-align: right;\n    }\n</style>\n<table border=\"1\" class=\"dataframe\">\n  <thead>\n    <tr style=\"text-align: right;\">\n      <th></th>\n      <th>name</th>\n      <th>rank</th>\n      <th>hp</th>\n      <th>sp</th>\n      <th>atk</th>\n      <th>dfs</th>\n      <th>crt</th>\n    </tr>\n  </thead>\n  <tbody>\n    <tr>\n      <th>0</th>\n      <td>御神装·勿忘</td>\n      <td>B</td>\n      <td>--</td>\n      <td>--</td>\n      <td>--</td>\n      <td>--</td>\n      <td>--</td>\n    </tr>\n    <tr>\n      <th>1</th>\n      <td>御神装·勿忘</td>\n      <td>A</td>\n      <td>--</td>\n      <td>--</td>\n      <td>--</td>\n      <td>--</td>\n      <td>--</td>\n    </tr>\n    <tr>\n      <th>2</th>\n      <td>御神装·勿忘</td>\n      <td>S</td>\n      <td>1203</td>\n      <td>235</td>\n      <td>451</td>\n      <td>96</td>\n      <td>48</td>\n    </tr>\n    <tr>\n      <th>3</th>\n      <td>御神装·勿忘</td>\n      <td>SS</td>\n      <td>1403</td>\n      <td>245</td>\n      <td>526</td>\n      <td>112</td>\n      <td>56</td>\n    </tr>\n    <tr>\n      <th>4</th>\n      <td>御神装·勿忘</td>\n      <td>SSS</td>\n      <td>1604</td>\n      <td>256</td>\n      <td>604</td>\n      <td>128</td>\n      <td>64</td>\n    </tr>\n    <tr>\n      <th>...</th>\n      <td>...</td>\n      <td>...</td>\n      <td>...</td>\n      <td>...</td>\n      <td>...</td>\n      <td>...</td>\n      <td>...</td>\n    </tr>\n    <tr>\n      <th>265</th>\n      <td>朔夜观星</td>\n      <td>B</td>\n      <td>--</td>\n      <td>--</td>\n      <td>--</td>\n      <td>--</td>\n      <td>--</td>\n    </tr>\n    <tr>\n      <th>266</th>\n      <td>朔夜观星</td>\n      <td>A</td>\n      <td>1002</td>\n      <td>224</td>\n      <td>334</td>\n      <td>120</td>\n      <td>35</td>\n    </tr>\n    <tr>\n      <th>267</th>\n      <td>朔夜观星</td>\n      <td>S</td>\n      <td>1203</td>\n      <td>235</td>\n      <td>401</td>\n      <td>144</td>\n      <td>42</td>\n    </tr>\n    <tr>\n      <th>268</th>\n      <td>朔夜观星</td>\n      <td>SS</td>\n      <td>1403</td>\n      <td>245</td>\n      <td>468</td>\n      <td>168</td>\n      <td>49</td>\n    </tr>\n    <tr>\n      <th>269</th>\n      <td>朔夜观星</td>\n      <td>SSS</td>\n      <td>1604</td>\n      <td>256</td>\n      <td>535</td>\n      <td>192</td>\n      <td>56</td>\n    </tr>\n  </tbody>\n</table>\n<p>270 rows × 7 columns</p>\n</div>"
     },
     "metadata": {},
     "execution_count": 37
    }
   ],
   "source": []
  },
  {
   "cell_type": "code",
   "execution_count": 25,
   "metadata": {},
   "outputs": [
    {
     "output_type": "execute_result",
     "data": {
      "text/plain": "Empty DataFrame\nColumns: []\nIndex: []",
      "text/html": "<div>\n<style scoped>\n    .dataframe tbody tr th:only-of-type {\n        vertical-align: middle;\n    }\n\n    .dataframe tbody tr th {\n        vertical-align: top;\n    }\n\n    .dataframe thead th {\n        text-align: right;\n    }\n</style>\n<table border=\"1\" class=\"dataframe\">\n  <thead>\n    <tr style=\"text-align: right;\">\n      <th></th>\n    </tr>\n  </thead>\n  <tbody>\n  </tbody>\n</table>\n</div>"
     },
     "metadata": {},
     "execution_count": 25
    }
   ],
   "source": [
    "df_vstats"
   ]
  },
  {
   "cell_type": "markdown",
   "metadata": {},
   "source": [
    "title[5]:substance[11]"
   ]
  },
  {
   "cell_type": "markdown",
   "metadata": {
    "tags": []
   },
   "source": [
    "dic = {}\n",
    "dic.update(enumerate(substance))"
   ]
  },
  {
   "cell_type": "markdown",
   "metadata": {},
   "source": [
    "dic.get(1)"
   ]
  },
  {
   "cell_type": "markdown",
   "metadata": {
    "tags": []
   },
   "source": [
    "print(dic.get(2).replace('''\n",
    "''',''))"
   ]
  },
  {
   "cell_type": "markdown",
   "metadata": {},
   "source": [
    "dic.get(3)"
   ]
  },
  {
   "cell_type": "markdown",
   "metadata": {},
   "source": [
    "dic.get(4)"
   ]
  },
  {
   "cell_type": "markdown",
   "metadata": {},
   "source": [
    "len(dic)"
   ]
  }
 ],
 "metadata": {
  "language_info": {
   "codemirror_mode": {
    "name": "ipython",
    "version": 3
   },
   "file_extension": ".py",
   "mimetype": "text/x-python",
   "name": "python",
   "nbconvert_exporter": "python",
   "pygments_lexer": "ipython3",
   "version": "3.7.7-final"
  },
  "orig_nbformat": 2,
  "kernelspec": {
   "name": "python37764bitwebscrapingconda7e4b416cfac74079af05761bd3c05317",
   "display_name": "Python 3.7.7 64-bit ('web_scraping': conda)"
  }
 },
 "nbformat": 4,
 "nbformat_minor": 2
}