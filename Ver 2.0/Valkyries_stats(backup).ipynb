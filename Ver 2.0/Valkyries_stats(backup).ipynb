{
 "cells": [
  {
   "cell_type": "code",
   "execution_count": 1,
   "metadata": {
    "tags": []
   },
   "outputs": [],
   "source": [
    "from bs4 import BeautifulSoup\n",
    "import re\n",
    "import pandas as pd\n",
    "import urllib.request\n",
    "from urllib.request import urlopen\n",
    "import sys\n",
    "import pickle\n",
    "import openpyxl"
   ]
  },
  {
   "cell_type": "code",
   "execution_count": 2,
   "metadata": {},
   "outputs": [],
   "source": [
    "pages       = range(100)\n",
    "url_part    = 'https://3rdguide.com/web/valk/detail?id='\n",
    "urls        = [url_part + str(page) for page in pages]\n",
    "souplist    = []\n",
    "df_vstats   = pd.DataFrame()\n",
    "df          = pd.DataFrame()"
   ]
  },
  {
   "cell_type": "code",
   "execution_count": 3,
   "metadata": {
    "tags": []
   },
   "outputs": [],
   "source": [
    "def info():\n",
    "    bowls   = len(souplist)\n",
    "    vstats  = round(len(df_vstats)/5)\n",
    "    print(f\"\"\"\n",
    "    Currently there are {bowls} bowls of soup in the souplist and the {vstats} sets of stats in the Dataframe buffer.\n",
    "\n",
    "    <<list of available functions>>\n",
    "\n",
    "    loadweb(urls)            - call function to synchronize with the web        - return  souplist:       list\n",
    "    savesoup(souplist)       - call function to save the list from loadweb      - output  souplist.pkl    pkl\n",
    "    loadsoup(souplist_pkl)   - call function to load local pickle file          - return  souplist:       list\n",
    "    soup2stats(souplist)     - call function to parse the souplist              - return  df_vstat:       dataframe\n",
    "    savestats(df_vstats)     - call function to save the dataframe              - output  Valkyrie.pkl    pkl\n",
    "    loadstats(Valkyrie_pkl)  - call function to load local pickle file          - return  df_vstats:      dataframe\"\"\")"
   ]
  },
  {
   "cell_type": "code",
   "execution_count": 4,
   "metadata": {},
   "outputs": [],
   "source": [
    "def loadweb(urls):\n",
    "    htmls       = [urlopen(url).read() for url in urls]\n",
    "    souplist    = [BeautifulSoup(html.decode('utf-8'),'html.parser') for html in htmls]\n",
    "    return souplist"
   ]
  },
  {
   "cell_type": "code",
   "execution_count": 5,
   "metadata": {},
   "outputs": [],
   "source": [
    "def savesoup(souplist):\n",
    "    sys.setrecursionlimit(100000)\n",
    "    print('Now saving...souplist as pickle file')\n",
    "    with open ('Saves/souplist.pkl','wb') as chowder:\n",
    "        pickle.dump(souplist,chowder)\n",
    "        print('Saving completed!')\n",
    "    sys.setrecursionlimit(1000)"
   ]
  },
  {
   "cell_type": "code",
   "execution_count": 6,
   "metadata": {},
   "outputs": [],
   "source": [
    "def loadsoup(souplist_pkl):\n",
    "    print('Now loading souplist from pickle file...')\n",
    "    souplist = pickle.load(souplist_pkl)\n",
    "    return souplist\n",
    "    print('Loading completed!')"
   ]
  },
  {
   "cell_type": "code",
   "execution_count": 7,
   "metadata": {
    "tags": []
   },
   "outputs": [],
   "source": [
    "def soup2stats(souplist):\n",
    "    df = pd.DataFrame()\n",
    "    for soup in souplist:\n",
    "        dic = {}\n",
    "        dic.update(enumerate(soup.stripped_strings))\n",
    "        print(dic)\n",
    "        name = dic.get(8)\n",
    "        if name.startswith('正在'):\n",
    "            pass\n",
    "        elif name in df.iloc[:0].values:\n",
    "            pass\n",
    "        else:\n",
    "            header      = ['name','rank','hp','sp','atk','dfs','crt']\n",
    "            b           = [name,'B']    + [dic.get(x) for x in range(14,19)]\n",
    "            a           = [name,'A']    + [dic.get(x) for x in range(19,24)]\n",
    "            s           = [name,'S']    + [dic.get(x) for x in range(24,29)]\n",
    "            ss          = [name,'SS']   + [dic.get(x) for x in range(29,34)]\n",
    "            sss         = [name,'SSS']  + [dic.get(x) for x in range(34,39)]\n",
    "            df          = df.append(pd.DataFrame(data=[b,a,s,ss,sss],columns=header))\n",
    "    df_vstats = df\n",
    "    return df_vstats.reset_index(drop=True,inplace=True)"
   ]
  },
  {
   "cell_type": "code",
   "execution_count": 8,
   "metadata": {},
   "outputs": [],
   "source": [
    "def savestats(df):\n",
    "    print('Now saving dataframe to pickle file...')\n",
    "    df.to_pickle('Saves/Valkyrie.pkl')\n",
    "    print('Dataframe saving Completed!')"
   ]
  },
  {
   "cell_type": "code",
   "execution_count": 9,
   "metadata": {},
   "outputs": [],
   "source": [
    "def loadstats(Valkyrie_pkl):\n",
    "    print('Now Loading pickle file to dataframe')\n",
    "    df = pd.read_pickle(Valkyrie_pkl)\n",
    "    print('Dataframe loading completed!')\n",
    "    return df_vstats"
   ]
  },
  {
   "cell_type": "code",
   "execution_count": 10,
   "metadata": {},
   "outputs": [],
   "source": [
    "def refreshall(urls):\n",
    "    print('Refreshing Web Content...')\n",
    "    souplist = loadweb(urls)\n",
    "    savesoup(souplist)\n",
    "    df_vstats = soup2stats(souplist)\n",
    "    savestats(df_vstats)\n",
    "    df_vstats.to_excel('Valkyrie_stats.xlsx')\n",
    "    print('Task Completed!')"
   ]
  },
  {
   "cell_type": "code",
   "execution_count": 11,
   "metadata": {
    "tags": []
   },
   "outputs": [
    {
     "output_type": "stream",
     "name": "stdout",
     "text": "Refreshing Web Content...\nNow saving...souplist as pickle file\n"
    },
    {
     "output_type": "error",
     "ename": "FileNotFoundError",
     "evalue": "[Errno 2] No such file or directory: 'Saves/souplist.pkl'",
     "traceback": [
      "\u001b[0;31m---------------------------------------------------------------------------\u001b[0m",
      "\u001b[0;31mFileNotFoundError\u001b[0m                         Traceback (most recent call last)",
      "\u001b[0;32m<ipython-input-11-6b968d078a42>\u001b[0m in \u001b[0;36m<module>\u001b[0;34m\u001b[0m\n\u001b[0;32m----> 1\u001b[0;31m \u001b[0mrefreshall\u001b[0m\u001b[0;34m(\u001b[0m\u001b[0murls\u001b[0m\u001b[0;34m)\u001b[0m\u001b[0;34m\u001b[0m\u001b[0;34m\u001b[0m\u001b[0m\n\u001b[0m",
      "\u001b[0;32m<ipython-input-10-eced014a03ac>\u001b[0m in \u001b[0;36mrefreshall\u001b[0;34m(urls)\u001b[0m\n\u001b[1;32m      2\u001b[0m     \u001b[0mprint\u001b[0m\u001b[0;34m(\u001b[0m\u001b[0;34m'Refreshing Web Content...'\u001b[0m\u001b[0;34m)\u001b[0m\u001b[0;34m\u001b[0m\u001b[0;34m\u001b[0m\u001b[0m\n\u001b[1;32m      3\u001b[0m     \u001b[0msouplist\u001b[0m \u001b[0;34m=\u001b[0m \u001b[0mloadweb\u001b[0m\u001b[0;34m(\u001b[0m\u001b[0murls\u001b[0m\u001b[0;34m)\u001b[0m\u001b[0;34m\u001b[0m\u001b[0;34m\u001b[0m\u001b[0m\n\u001b[0;32m----> 4\u001b[0;31m     \u001b[0msavesoup\u001b[0m\u001b[0;34m(\u001b[0m\u001b[0msouplist\u001b[0m\u001b[0;34m)\u001b[0m\u001b[0;34m\u001b[0m\u001b[0;34m\u001b[0m\u001b[0m\n\u001b[0m\u001b[1;32m      5\u001b[0m     \u001b[0mdf_vstats\u001b[0m \u001b[0;34m=\u001b[0m \u001b[0msoup2stats\u001b[0m\u001b[0;34m(\u001b[0m\u001b[0msouplist\u001b[0m\u001b[0;34m)\u001b[0m\u001b[0;34m\u001b[0m\u001b[0;34m\u001b[0m\u001b[0m\n\u001b[1;32m      6\u001b[0m     \u001b[0msavestats\u001b[0m\u001b[0;34m(\u001b[0m\u001b[0mdf_vstats\u001b[0m\u001b[0;34m)\u001b[0m\u001b[0;34m\u001b[0m\u001b[0;34m\u001b[0m\u001b[0m\n",
      "\u001b[0;32m<ipython-input-5-782fd5f01f2a>\u001b[0m in \u001b[0;36msavesoup\u001b[0;34m(souplist)\u001b[0m\n\u001b[1;32m      2\u001b[0m     \u001b[0msys\u001b[0m\u001b[0;34m.\u001b[0m\u001b[0msetrecursionlimit\u001b[0m\u001b[0;34m(\u001b[0m\u001b[0;36m100000\u001b[0m\u001b[0;34m)\u001b[0m\u001b[0;34m\u001b[0m\u001b[0;34m\u001b[0m\u001b[0m\n\u001b[1;32m      3\u001b[0m     \u001b[0mprint\u001b[0m\u001b[0;34m(\u001b[0m\u001b[0;34m'Now saving...souplist as pickle file'\u001b[0m\u001b[0;34m)\u001b[0m\u001b[0;34m\u001b[0m\u001b[0;34m\u001b[0m\u001b[0m\n\u001b[0;32m----> 4\u001b[0;31m     \u001b[0;32mwith\u001b[0m \u001b[0mopen\u001b[0m \u001b[0;34m(\u001b[0m\u001b[0;34m'Saves/souplist.pkl'\u001b[0m\u001b[0;34m,\u001b[0m\u001b[0;34m'wb'\u001b[0m\u001b[0;34m)\u001b[0m \u001b[0;32mas\u001b[0m \u001b[0mchowder\u001b[0m\u001b[0;34m:\u001b[0m\u001b[0;34m\u001b[0m\u001b[0;34m\u001b[0m\u001b[0m\n\u001b[0m\u001b[1;32m      5\u001b[0m         \u001b[0mpickle\u001b[0m\u001b[0;34m.\u001b[0m\u001b[0mdump\u001b[0m\u001b[0;34m(\u001b[0m\u001b[0msouplist\u001b[0m\u001b[0;34m,\u001b[0m\u001b[0mchowder\u001b[0m\u001b[0;34m)\u001b[0m\u001b[0;34m\u001b[0m\u001b[0;34m\u001b[0m\u001b[0m\n\u001b[1;32m      6\u001b[0m         \u001b[0mprint\u001b[0m\u001b[0;34m(\u001b[0m\u001b[0;34m'Saving completed!'\u001b[0m\u001b[0;34m)\u001b[0m\u001b[0;34m\u001b[0m\u001b[0;34m\u001b[0m\u001b[0m\n",
      "\u001b[0;31mFileNotFoundError\u001b[0m: [Errno 2] No such file or directory: 'Saves/souplist.pkl'"
     ]
    }
   ],
   "source": [
    "refreshall(urls)"
   ]
  },
  {
   "cell_type": "markdown",
   "metadata": {},
   "source": [
    "title[5]:substance[11]"
   ]
  },
  {
   "cell_type": "markdown",
   "metadata": {
    "tags": []
   },
   "source": [
    "dic = {}\n",
    "dic.update(enumerate(substance))"
   ]
  },
  {
   "cell_type": "markdown",
   "metadata": {},
   "source": [
    "dic.get(1)"
   ]
  },
  {
   "cell_type": "markdown",
   "metadata": {
    "tags": []
   },
   "source": [
    "print(dic.get(2).replace('''\n",
    "''',''))"
   ]
  },
  {
   "cell_type": "markdown",
   "metadata": {},
   "source": [
    "dic.get(3)"
   ]
  },
  {
   "cell_type": "markdown",
   "metadata": {},
   "source": [
    "dic.get(4)"
   ]
  },
  {
   "cell_type": "markdown",
   "metadata": {},
   "source": [
    "len(dic)"
   ]
  }
 ],
 "metadata": {
  "language_info": {
   "codemirror_mode": {
    "name": "ipython",
    "version": 3
   },
   "file_extension": ".py",
   "mimetype": "text/x-python",
   "name": "python",
   "nbconvert_exporter": "python",
   "pygments_lexer": "ipython3",
   "version": "3.7.7-final"
  },
  "orig_nbformat": 2,
  "kernelspec": {
   "name": "python37764bitwebscrapingconda7e4b416cfac74079af05761bd3c05317",
   "display_name": "Python 3.7.7 64-bit ('web_scraping': conda)"
  }
 },
 "nbformat": 4,
 "nbformat_minor": 2
}