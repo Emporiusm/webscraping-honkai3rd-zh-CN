{
 "cells": [
  {
   "cell_type": "code",
   "execution_count": 1,
   "metadata": {
    "tags": []
   },
   "outputs": [],
   "source": [
    "from bs4 import BeautifulSoup\n",
    "import re\n",
    "import pandas as pd\n",
    "import urllib.request\n",
    "from urllib.request import urlopen\n",
    "import sys\n",
    "import pickle\n",
    "import openpyxl\n",
    "import os"
   ]
  },
  {
   "cell_type": "code",
   "execution_count": 2,
   "metadata": {},
   "outputs": [],
   "source": [
    "pages       = range(100)\n",
    "url_part    = 'https://3rdguide.com/web/valk/detail?id='\n",
    "urls        = [url_part + str(page) for page in pages]\n",
    "souplist    = []\n",
    "df_vstats   = pd.DataFrame()\n",
    "df          = pd.DataFrame()\n",
    "path        = os.path.abspath(os.getcwd())"
   ]
  },
  {
   "cell_type": "code",
   "execution_count": 3,
   "metadata": {
    "tags": []
   },
   "outputs": [],
   "source": [
    "def info():\n",
    "    bowls   = len(souplist)\n",
    "    vstats  = round(len(df_vstats)/5)\n",
    "    print(f\"\"\"\n",
    "    Currently there are {bowls} bowls of soup in the souplist and the {vstats} sets of stats in the Dataframe buffer.\n",
    "\n",
    "    <<list of available functions>>\n",
    "\n",
    "    loadweb(urls)            - call function to synchronize with the web        - return  souplist:       list\n",
    "    savesoup(souplist)       - call function to save the list from loadweb      - output  souplist.pkl    pkl\n",
    "    loadsoup(souplist_pkl)   - call function to load local pickle file          - return  souplist:       list\n",
    "    soup2stats(souplist)     - call function to parse the souplist              - return  df_vstat:       dataframe\n",
    "    savestats(df_vstats)     - call function to save the dataframe              - output  Valkyrie.pkl    pkl\n",
    "    loadstats(Valkyrie_pkl)  - call function to load local pickle file          - return  df_vstats:      dataframe\"\"\")"
   ]
  },
  {
   "cell_type": "code",
   "execution_count": 4,
   "metadata": {},
   "outputs": [],
   "source": [
    "def loadweb(urls):\n",
    "    history = {}\n",
    "    htmls       = [urlopen(url).read() for url in urls]\n",
    "    souplist    = [BeautifulSoup(html.decode('utf-8'),'html.parser') for html in htmls]\n",
    "    return souplist"
   ]
  },
  {
   "cell_type": "code",
   "execution_count": 17,
   "metadata": {},
   "outputs": [],
   "source": [
    "for soup in souplist:\n",
    "    for string in soup.stripped_strings:\n",
    "        print(repr(string))"
   ]
  },
  {
   "cell_type": "code",
   "execution_count": 6,
   "metadata": {},
   "outputs": [],
   "source": [
    "def history():\n",
    "    htmls       = [urlopen(url).read() for url in urls]"
   ]
  },
  {
   "cell_type": "code",
   "execution_count": 7,
   "metadata": {},
   "outputs": [],
   "source": [
    "def savesoup(souplist):\n",
    "    sys.setrecursionlimit(100000)\n",
    "    print('Now saving...souplist as pickle file')\n",
    "    with open (souplist,'wb') as chowder:\n",
    "        pickle.dump(souplist,chowder)\n",
    "        print('Saving completed!')\n",
    "    sys.setrecursionlimit(1000)"
   ]
  },
  {
   "cell_type": "code",
   "execution_count": 19,
   "metadata": {},
   "outputs": [],
   "source": [
    "def loadsoup(souplist_pkl):\n",
    "    print('Now loading souplist from pickle file...')\n",
    "    with open('souplist.pkl','rb') as chowder:\n",
    "        souplist = pickle.load(chowder)\n",
    "    return souplist\n",
    "    return print('Loading completed!')"
   ]
  },
  {
   "cell_type": "code",
   "execution_count": 9,
   "metadata": {
    "tags": []
   },
   "outputs": [],
   "source": [
    "def soup2stats(souplist):\n",
    "    df = pd.DataFrame()\n",
    "    for soup in souplist:\n",
    "        dic = {}\n",
    "        dic.update(enumerate(soup.stripped_strings))\n",
    "        name = dic.get(8)\n",
    "        if name.startswith('正在'):\n",
    "            pass\n",
    "        elif name in df.iloc[:0].values:\n",
    "            pass\n",
    "        else:\n",
    "            header      = ['name','rank','hp','sp','atk','dfs','crt']\n",
    "            b           = [name,'B']    + [dic.get(x) for x in range(14,19)]\n",
    "            a           = [name,'A']    + [dic.get(x) for x in range(19,24)]\n",
    "            s           = [name,'S']    + [dic.get(x) for x in range(24,29)]\n",
    "            ss          = [name,'SS']   + [dic.get(x) for x in range(29,34)]\n",
    "            sss         = [name,'SSS']  + [dic.get(x) for x in range(34,39)]\n",
    "            df          = df.append(pd.DataFrame(data=[b,a,s,ss,sss],columns=header))\n",
    "        df = df.reset_index(drop=True)\n",
    "    return df"
   ]
  },
  {
   "cell_type": "code",
   "execution_count": 10,
   "metadata": {},
   "outputs": [],
   "source": [
    "def savestats(df):\n",
    "    print('Now saving dataframe to pickle file...')\n",
    "    df.to_pickle('Valkyrie.pkl')\n",
    "    print('Dataframe saving Completed!')"
   ]
  },
  {
   "cell_type": "code",
   "execution_count": 11,
   "metadata": {},
   "outputs": [],
   "source": [
    "def loadstats(Valkyrie_pkl):\n",
    "    print('Now Loading pickle file to dataframe')\n",
    "    df = pd.read_pickle(Valkyrie_pkl)\n",
    "    print('Dataframe loading completed!')\n",
    "    return df_vstats"
   ]
  },
  {
   "cell_type": "code",
   "execution_count": 12,
   "metadata": {},
   "outputs": [],
   "source": [
    "def refreshall(urls):\n",
    "    print('Refreshing Web Content...')\n",
    "    souplist = loadweb(urls)\n",
    "    df_vstats = soup2stats(souplist)\n",
    "    return df_vstats.to_excel('Valkyrie_stats.xlsx')\n",
    "    return savesoup(souplist)\n",
    "    return savestats(df_vstats)\n",
    "    return print('Task Completed!')"
   ]
  },
  {
   "cell_type": "code",
   "execution_count": 21,
   "metadata": {
    "tags": []
   },
   "outputs": [
    {
     "output_type": "stream",
     "name": "stdout",
     "text": "Refreshing Web Content...\n"
    }
   ],
   "source": [
    "refreshall(urls)"
   ]
  },
  {
   "cell_type": "markdown",
   "metadata": {},
   "source": [
    "title[5]:substance[11]"
   ]
  },
  {
   "cell_type": "markdown",
   "metadata": {
    "tags": []
   },
   "source": [
    "dic = {}\n",
    "dic.update(enumerate(substance))"
   ]
  },
  {
   "cell_type": "markdown",
   "metadata": {},
   "source": [
    "dic.get(1)"
   ]
  },
  {
   "cell_type": "markdown",
   "metadata": {
    "tags": []
   },
   "source": [
    "print(dic.get(2).replace('''\n",
    "''',''))"
   ]
  },
  {
   "cell_type": "markdown",
   "metadata": {},
   "source": [
    "dic.get(3)"
   ]
  },
  {
   "cell_type": "markdown",
   "metadata": {},
   "source": [
    "dic.get(4)"
   ]
  },
  {
   "cell_type": "markdown",
   "metadata": {},
   "source": [
    "len(dic)"
   ]
  }
 ],
 "metadata": {
  "language_info": {
   "codemirror_mode": {
    "name": "ipython",
    "version": 3
   },
   "file_extension": ".py",
   "mimetype": "text/x-python",
   "name": "python",
   "nbconvert_exporter": "python",
   "pygments_lexer": "ipython3",
   "version": "3.7.7-final"
  },
  "orig_nbformat": 2,
  "kernelspec": {
   "name": "python37764bitwebscrapingconda7e4b416cfac74079af05761bd3c05317",
   "display_name": "Python 3.7.7 64-bit ('web_scraping': conda)"
  }
 },
 "nbformat": 4,
 "nbformat_minor": 2
}