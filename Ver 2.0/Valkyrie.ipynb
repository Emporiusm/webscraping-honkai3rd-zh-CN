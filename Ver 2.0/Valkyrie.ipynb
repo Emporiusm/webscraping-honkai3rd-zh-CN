{
 "cells": [
  {
   "cell_type": "code",
   "execution_count": null,
   "metadata": {},
   "outputs": [],
   "source": [
    "from bs4 import BeautifulSoup\n",
    "import re\n",
    "import pandas as pd\n",
    "import urllib.request\n",
    "from urllib.request import urlopen"
   ]
  },
  {
   "cell_type": "code",
   "execution_count": null,
   "metadata": {},
   "outputs": [],
   "source": [
    "pages       = range(100)\n",
    "urls        = ['https://3rdguide.com/web/valk/detail?id=' + str(page) for page in pages]\n",
    "htmls       = [urlopen(url).read() for url in urls]\n",
    "souplist    = [BeautifulSoup(html.decode('utf-8'),'html.parser') for html in htmls]"
   ]
  },
  {
   "cell_type": "code",
   "execution_count": null,
   "metadata": {},
   "outputs": [],
   "source": [
    "df          = pd.DataFrame()"
   ]
  },
  {
   "cell_type": "code",
   "execution_count": null,
   "metadata": {
    "tags": []
   },
   "outputs": [],
   "source": [
    "for soup in souplist:\n",
    "    dic = {}\n",
    "    dic.update(enumerate(soup.stripped_strings))\n",
    "    print(dic)\n",
    "    name = dic.get(8)\n",
    "    if not name.startswith('正在'):\n",
    "        header = [\n",
    "            'name',\n",
    "            'rank',\n",
    "            'hp',\n",
    "            'sp',\n",
    "            'atk',\n",
    "            'dfs',\n",
    "            'crt'\n",
    "        ]\n",
    "        b   = [name,'B']    + [dic.get(x) for x in range(14,19)]\n",
    "        a   = [name,'A']    + [dic.get(x) for x in range(19,24)]\n",
    "        s   = [name,'S']    + [dic.get(x) for x in range(24,29)]\n",
    "        ss  = [name,'SS']   + [dic.get(x) for x in range(29,34)]\n",
    "        sss = [name,'SSS']  + [dic.get(x) for x in range(34,39)]\n",
    "        df = df.append(pd.DataFrame(data=[b,a,s,ss,sss],columns=header))\n",
    "    else:\n",
    "        pass\n",
    "df.to_pickle('Valkyrie.pkl')"
   ]
  },
  {
   "cell_type": "code",
   "execution_count": null,
   "metadata": {},
   "outputs": [],
   "source": [
    "header = []"
   ]
  },
  {
   "cell_type": "code",
   "execution_count": 141,
   "metadata": {
    "tags": []
   },
   "outputs": [
    {
     "output_type": "stream",
     "name": "stdout",
     "text": "[]\n['快速五段斩，每段命中时回复60点动能\\r\\n一段：50%攻击力物理伤害\\r\\n二段：共计80%攻击力物理伤害\\r\\n三段：120%攻击力物理伤害\\r\\n四段：共计120%攻击力物理伤害\\r\\n五段：造成250%攻击力的冰冻元素伤害', '瞬间拔刀斩杀前方敌人\\r\\n烈风：共造成900%攻击力的冰冻元素伤害，最后一击冻结敌人\\r\\n斩杀：冰封粉碎，造成1200%攻击力的物理伤害\\r\\n充能：使用必杀技时回复250点动能，必杀技结束后每0.25秒回复30点动能，持续10秒\\r\\n开启消耗能量：125', '高速拔刀斩击\\r\\n消耗200动能可以连续打出强化斩击\\r\\n动能最大值为1000，角色在场时动能会缓慢恢复\\r\\n斩击：50%攻击力物理伤害\\r\\n强化斩击：100%攻击力物理伤害+200%攻击力冰冻元素伤害\\r\\n突进：100%攻击力物理伤害', '快速瞬移躲避敌人攻击\\r\\n白影：极限闪避时召唤寒冰残像，残像1秒后爆炸，对周围敌人造成200%攻击力的冰冻元素伤害，冷却时间15秒', '角色自动受被动技能加成', '置于队长位时，全队受到加成']\n"
    }
   ],
   "source": [
    "soup = souplist[1]"
   ]
  },
  {
   "cell_type": "code",
   "execution_count": 234,
   "metadata": {
    "tags": []
   },
   "outputs": [],
   "source": [
    "text        = [content.get_text() for content in soup.findAll('div',class_='valk-details-ji')]\n",
    "title       = [x for x in text[0].split('-') if len(x) < 5]\n",
    "substance   = [x for x in text[0].split(r'-')]"
   ]
  },
  {
   "cell_type": "code",
   "execution_count": 225,
   "metadata": {},
   "outputs": [
    {
     "output_type": "error",
     "ename": "NameError",
     "evalue": "name 'subtance' is not defined",
     "traceback": [
      "\u001b[0;31m---------------------------------------------------------------------------\u001b[0m",
      "\u001b[0;31mNameError\u001b[0m                                 Traceback (most recent call last)",
      "\u001b[0;32m<ipython-input-225-babe89b9252c>\u001b[0m in \u001b[0;36m<module>\u001b[0;34m\u001b[0m\n\u001b[0;32m----> 1\u001b[0;31m \u001b[0mtitle\u001b[0m\u001b[0;34m[\u001b[0m\u001b[0;36m5\u001b[0m\u001b[0;34m]\u001b[0m\u001b[0;34m:\u001b[0m\u001b[0msubtance\u001b[0m\u001b[0;34m[\u001b[0m\u001b[0;36m11\u001b[0m\u001b[0;34m]\u001b[0m\u001b[0;34m\u001b[0m\u001b[0;34m\u001b[0m\u001b[0m\n\u001b[0m",
      "\u001b[0;31mNameError\u001b[0m: name 'subtance' is not defined"
     ]
    }
   ],
   "source": [
    "title[5]:substance[11]"
   ]
  },
  {
   "cell_type": "code",
   "execution_count": 246,
   "metadata": {
    "tags": []
   },
   "outputs": [
    {
     "output_type": "stream",
     "name": "stdout",
     "text": "\n\n\n\n\n\n"
    }
   ],
   "source": [
    "dic = {}\n",
    "dic.update(enumerate(substance))"
   ]
  },
  {
   "cell_type": "code",
   "execution_count": 247,
   "metadata": {},
   "outputs": [
    {
     "output_type": "execute_result",
     "data": {
      "text/plain": "'普通攻击'"
     },
     "metadata": {},
     "execution_count": 247
    }
   ],
   "source": [
    "dic.get(1)"
   ]
  },
  {
   "cell_type": "code",
   "execution_count": 263,
   "metadata": {
    "tags": []
   },
   "outputs": [
    {
     "output_type": "stream",
     "name": "stdout",
     "text": "                                        普通攻击额外造成35%攻击力冰冻元素伤害，前四击期间攻击速度提高30%，使用第五击时，角色获得强化，造成的全伤害提高30%，持续8秒                                    \n"
    }
   ],
   "source": [
    "print(dic.get(2).replace('''\n",
    "''',''))"
   ]
  },
  {
   "cell_type": "code",
   "execution_count": 264,
   "metadata": {},
   "outputs": [
    {
     "output_type": "execute_result",
     "data": {
      "text/plain": "'必杀技'"
     },
     "metadata": {},
     "execution_count": 264
    }
   ],
   "source": [
    "dic.get(3)"
   ]
  },
  {
   "cell_type": "code",
   "execution_count": 272,
   "metadata": {},
   "outputs": [
    {
     "output_type": "execute_result",
     "data": {
      "text/plain": "'\\n[寒天狂舞]瞬间拔刀斩杀前方敌人\\n烈风：共造成900%攻击力的冰冻元素伤害，最后一击冻结敌人\\n斩杀：冰封粉碎，造成1200%攻击力的物理伤害\\n充能：使用必杀技时回复250点动能，必杀技结束后每0.25秒回复30点动能，持续10秒\\n开启消耗能量：125\\n[樱时雨 解锁：SS]使用必杀技时额外回复动能详细数据\\n                                        使用必杀技时额外回复600点动能                                    \\n[骨噬 解锁：S]\\n必杀技杀死敌人回复自身生命详细数据\\n                                        \\n必杀技每杀死一个敌人回复自身550点HP                                    \\n[无我 解锁：S]使用必杀技后造成全伤害提高详细数据\\n                                        使用必杀技后角色造成的全伤害提高40.0%，持续12秒                                    '"
     },
     "metadata": {},
     "execution_count": 272
    }
   ],
   "source": [
    "dic.get(4).replace('''\n",
    "''','').replace('\\r','''\n",
    "''').replace('','''\n",
    "[''')"
   ]
  },
  {
   "cell_type": "code",
   "execution_count": 286,
   "metadata": {},
   "outputs": [
    {
     "output_type": "execute_result",
     "data": {
      "text/plain": "'[寒天狂舞]瞬间拔刀斩杀前方敌人\\r烈风：共造成900%攻击力的冰冻元素伤害，最后一击冻结敌人\\r斩杀：冰封粉碎，造成1200%攻击力的物理伤害\\r充能：使用必杀技时回复250点动能，必杀技结束后每0.25秒回复30点动能，持续10秒\\r开启消耗能量：125[樱时雨 解锁：SS]使用必杀技时额外回复动能详细数据\\r                                        使用必杀技时额外回复600点动能                                    [骨噬 解锁：S]\\r必杀技杀死敌人回复自身生命详细数据\\r                                        \\r必杀技每杀死一个敌人回复自身550点HP                                    [无我 解锁：S]使用必杀技后造成全伤害提高详细数据\\r                                        使用必杀技后角色造成的全伤害提高40.0%，持续12秒                                    '"
     },
     "metadata": {},
     "execution_count": 286
    }
   ],
   "source": [
    "dic.get(4).replace('''\n",
    "''','').replace"
   ]
  },
  {
   "cell_type": "code",
   "execution_count": null,
   "metadata": {},
   "outputs": [],
   "source": []
  }
 ],
 "metadata": {
  "language_info": {
   "codemirror_mode": {
    "name": "ipython",
    "version": 3
   },
   "file_extension": ".py",
   "mimetype": "text/x-python",
   "name": "python",
   "nbconvert_exporter": "python",
   "pygments_lexer": "ipython3",
   "version": "3.7.7-final"
  },
  "orig_nbformat": 2,
  "kernelspec": {
   "name": "python37764bitwebscrapingconda7e4b416cfac74079af05761bd3c05317",
   "display_name": "Python 3.7.7 64-bit ('web_scraping': conda)"
  }
 },
 "nbformat": 4,
 "nbformat_minor": 2
}