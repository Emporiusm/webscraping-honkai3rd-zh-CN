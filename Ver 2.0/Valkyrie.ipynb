{
 "cells": [
  {
   "cell_type": "code",
   "execution_count": 32,
   "metadata": {
    "tags": []
   },
   "outputs": [
    {
     "output_type": "stream",
     "name": "stdout",
     "text": "\nCurrently there are 0 bowls of soup in the souplist and the stats of 0 Valkyries.\n\nlist of available functions\n\nloadweb(list_of_urls)    - call function to synchronize with the web,                                   return  souplist:   list\n\nsavesoup(souplist)       - call function to save the list from loadweb()                                output  souplist.pkl\n\nloadsoup(souplist_pkl)   - call function to load local pickle file,                                     return  souplist:   list\n\nsoup2stats(souplist)     - call function to parse the souplist,                                         return  df_vstat:   dataframe\n\nsavestats(df_vstats)     - call function to save the dataframe                                          outpur  Valkyrie.pkl\n\nloadstats(Valkyrie_pkl)  - call function to load local pickle file,                                     return  df_vstats:  dataframe\n"
    }
   ],
   "source": [
    "from bs4 import BeautifulSoup\n",
    "import re\n",
    "import pandas as pd\n",
    "import urllib.request\n",
    "from urllib.request import urlopen\n",
    "import sys\n",
    "pages       = range(100)\n",
    "url_part    = 'https://3rdguide.com/web/valk/detail?id='\n",
    "urls        = [url_part + str(page) for page in pages]\n",
    "souplist    = []\n",
    "df_vstats   = pd.DataFrame()\n",
    "df          = pd.DataFrame()\n",
    "bowls       = len(souplist)\n",
    "vstats      = len(df_vstats)\n",
    "print(f\"\"\"\n",
    "Currently there are {bowls} bowls of soup in the souplist and the stats of {vstats} Valkyries.\n",
    "\n",
    "list of available functions\n",
    "\n",
    "loadweb(list_of_urls)    - call function to synchronize with the web,           return  souplist:   list\n",
    "\n",
    "savesoup(souplist)       - call function to save the list from loadweb()        output  souplist.pkl\n",
    "\n",
    "loadsoup(souplist_pkl)   - call function to load local pickle file,             return  souplist:   list\n",
    "\n",
    "soup2stats(souplist)     - call function to parse the souplist,                 return  df_vstat:   dataframe\n",
    "\n",
    "savestats(df_vstats)     - call function to save the dataframe                                          output  Valkyrie.pkl\n",
    "\n",
    "loadstats(Valkyrie_pkl)  - call function to load local pickle file,                                     return  df_vstats:  dataframe\"\"\")"
   ]
  },
  {
   "cell_type": "code",
   "execution_count": 25,
   "metadata": {},
   "outputs": [],
   "source": [
    "def info():\n",
    "    #bowls = len(souplist)\n",
    "    #vstats = len(df_vstats)\n",
    "    print(f\"\"\"\n",
    "Currently there are {bowls} bowls of soup in the souplist and the stats of {vstats} Valkyries.\n",
    "list of available functions\n",
    "loadweb(list_of_urls)    - call function to synchronize with the web, return souplist:list\n",
    "savesoup(souplist)       - call function to save the list from loadweb() to a pickle file (souplist.pkl) for later use\n",
    "loadsoup(souplist_pkl)   - call function to load local pickle file, return souplist:list\n",
    "soup2stats(souplist)     - call function to parse the souplist and return the names and stats of the Valkyries, return df_vstats:dataframe\n",
    "savestats(df_vstats)     - call function to save the dataframe of Valkyrie stats into a pickle file (Valkyrie.pkl) for later use\n",
    "loadstats(Valkyrie_pkl)  - call function to load local pickle file, return df_vstats:dataframe\"\"\""
   ]
  },
  {
   "cell_type": "code",
   "execution_count": 19,
   "metadata": {},
   "outputs": [],
   "source": [
    "def loadweb(list_of_urls):\n",
    "    htmls       = [urlopen(url).read() for url in list_of_urls]\n",
    "    souplist    = [BeautifulSoup(html.decode('utf-8'),'html.parser') for html in htmls]\n",
    "    return souplist"
   ]
  },
  {
   "cell_type": "code",
   "execution_count": 20,
   "metadata": {},
   "outputs": [],
   "source": [
    "def loadsoup(souplist_pkl):\n",
    "    print('Now loading...')\n",
    "    souplist = pickle.load(souplist_pkl)\n",
    "    return souplist"
   ]
  },
  {
   "cell_type": "code",
   "execution_count": 21,
   "metadata": {
    "tags": []
   },
   "outputs": [],
   "source": [
    "def soup2stats(souplist):\n",
    "    for soup in souplist:\n",
    "        dic = {}\n",
    "        dic.update(enumerate(soup.stripped_strings))\n",
    "        print(dic)\n",
    "        name = dic.get(8)\n",
    "        if not name.startswith('正在'):\n",
    "            header = [\n",
    "                'name',\n",
    "                'rank',\n",
    "                'hp',\n",
    "                'sp',\n",
    "                'atk',\n",
    "                'dfs',\n",
    "                'crt'\n",
    "            ]\n",
    "            b   = [name,'B']    + [dic.get(x) for x in range(14,19)]\n",
    "            a   = [name,'A']    + [dic.get(x) for x in range(19,24)]\n",
    "            s   = [name,'S']    + [dic.get(x) for x in range(24,29)]\n",
    "            ss  = [name,'SS']   + [dic.get(x) for x in range(29,34)]\n",
    "            sss = [name,'SSS']  + [dic.get(x) for x in range(34,39)]\n",
    "            df  = df.append(pd.DataFrame(data=[b,a,s,ss,sss],columns=header))\n",
    "            df  = df.reindex()\n",
    "        else:\n",
    "            pass\n",
    "    return df_vstats"
   ]
  },
  {
   "cell_type": "code",
   "execution_count": 22,
   "metadata": {},
   "outputs": [],
   "source": [
    "def savestats(df):\n",
    "    print('Now saving...')\n",
    "    df.to_pickle('Valkyrie.pkl')\n",
    "    print('Saving Completed!')"
   ]
  },
  {
   "cell_type": "code",
   "execution_count": 26,
   "metadata": {
    "tags": []
   },
   "outputs": [
    {
     "output_type": "stream",
     "name": "stdout",
     "text": "Currently there are 0 bowls of soup in the souplist and the stats of 0 Valkyries\n"
    }
   ],
   "source": [
    "info()"
   ]
  },
  {
   "cell_type": "code",
   "execution_count": 23,
   "metadata": {},
   "outputs": [],
   "source": [
    "def loadstats(Valkyrie_pkl):\n",
    "    print('Now Loading')\n",
    "    df = pd.read_pickle(Valkyrie_pkl)\n",
    "    return df_vstats"
   ]
  },
  {
   "cell_type": "code",
   "execution_count": null,
   "metadata": {
    "tags": []
   },
   "outputs": [],
   "source": [
    "text        = [content.get_text() for content in soup.findAll('div',class_='valk-details-ji')]\n",
    "title       = [x for x in text[0].split('-') if len(x) < 5]\n",
    "substance   = [x for x in text[0].split(r'-')]"
   ]
  },
  {
   "cell_type": "code",
   "execution_count": null,
   "metadata": {},
   "outputs": [],
   "source": [
    "title[5]:substance[11]"
   ]
  },
  {
   "cell_type": "code",
   "execution_count": null,
   "metadata": {
    "tags": []
   },
   "outputs": [],
   "source": [
    "dic = {}\n",
    "dic.update(enumerate(substance))"
   ]
  },
  {
   "cell_type": "code",
   "execution_count": null,
   "metadata": {},
   "outputs": [],
   "source": [
    "dic.get(1)"
   ]
  },
  {
   "cell_type": "code",
   "execution_count": null,
   "metadata": {
    "tags": []
   },
   "outputs": [],
   "source": [
    "print(dic.get(2).replace('''\n",
    "''',''))"
   ]
  },
  {
   "cell_type": "code",
   "execution_count": null,
   "metadata": {},
   "outputs": [],
   "source": [
    "dic.get(3)"
   ]
  },
  {
   "cell_type": "code",
   "execution_count": null,
   "metadata": {},
   "outputs": [],
   "source": [
    "dic.get(4)"
   ]
  },
  {
   "cell_type": "code",
   "execution_count": null,
   "metadata": {},
   "outputs": [],
   "source": [
    "len(dic)"
   ]
  },
  {
   "cell_type": "code",
   "execution_count": null,
   "metadata": {},
   "outputs": [],
   "source": []
  }
 ],
 "metadata": {
  "language_info": {
   "codemirror_mode": {
    "name": "ipython",
    "version": 3
   },
   "file_extension": ".py",
   "mimetype": "text/x-python",
   "name": "python",
   "nbconvert_exporter": "python",
   "pygments_lexer": "ipython3",
   "version": "3.7.7-final"
  },
  "orig_nbformat": 2,
  "kernelspec": {
   "name": "python37764bitwebscrapingconda7e4b416cfac74079af05761bd3c05317",
   "display_name": "Python 3.7.7 64-bit ('web_scraping': conda)"
  }
 },
 "nbformat": 4,
 "nbformat_minor": 2
}