{
 "cells": [
  {
   "cell_type": "code",
   "execution_count": null,
   "metadata": {},
   "outputs": [],
   "source": [
    "from bs4 import BeautifulSoup\n",
    "import re\n",
    "import pandas as pd\n",
    "import urllib.request\n",
    "from urllib.request import urlopen"
   ]
  },
  {
   "cell_type": "code",
   "execution_count": null,
   "metadata": {},
   "outputs": [],
   "source": [
    "pages       = range(100)\n",
    "urls        = ['https://3rdguide.com/web/valk/detail?id=' + str(page) for page in pages]\n",
    "htmls       = [urlopen(url).read() for url in urls]\n",
    "souplist    = [BeautifulSoup(html.decode('utf-8'),'html.parser') for html in htmls]"
   ]
  },
  {
   "cell_type": "code",
   "execution_count": null,
   "metadata": {},
   "outputs": [],
   "source": [
    "df          = pd.DataFrame()"
   ]
  },
  {
   "cell_type": "code",
   "execution_count": null,
   "metadata": {
    "tags": []
   },
   "outputs": [],
   "source": [
    "for soup in souplist:\n",
    "    dic = {}\n",
    "    dic.update(enumerate(soup.stripped_strings))\n",
    "    print(dic)\n",
    "    name = dic.get(8)\n",
    "    if not name.startswith('正在'):\n",
    "        header = [\n",
    "            'name',\n",
    "            'rank',\n",
    "            'hp',\n",
    "            'sp',\n",
    "            'atk',\n",
    "            'dfs',\n",
    "            'crt'\n",
    "        ]\n",
    "        b   = [name,'B']    + [dic.get(x) for x in range(14,19)]\n",
    "        a   = [name,'A']    + [dic.get(x) for x in range(19,24)]\n",
    "        s   = [name,'S']    + [dic.get(x) for x in range(24,29)]\n",
    "        ss  = [name,'SS']   + [dic.get(x) for x in range(29,34)]\n",
    "        sss = [name,'SSS']  + [dic.get(x) for x in range(34,39)]\n",
    "        df = df.append(pd.DataFrame(data=[b,a,s,ss,sss],columns=header))\n",
    "    else:\n",
    "        pass\n",
    "df.to_pickle('Valkyrie.pkl')"
   ]
  },
  {
   "cell_type": "code",
   "execution_count": null,
   "metadata": {},
   "outputs": [],
   "source": [
    "header = []"
   ]
  },
  {
   "cell_type": "code",
   "execution_count": 141,
   "metadata": {
    "tags": []
   },
   "outputs": [
    {
     "output_type": "stream",
     "name": "stdout",
     "text": "[]\n['快速五段斩，每段命中时回复60点动能\\r\\n一段：50%攻击力物理伤害\\r\\n二段：共计80%攻击力物理伤害\\r\\n三段：120%攻击力物理伤害\\r\\n四段：共计120%攻击力物理伤害\\r\\n五段：造成250%攻击力的冰冻元素伤害', '瞬间拔刀斩杀前方敌人\\r\\n烈风：共造成900%攻击力的冰冻元素伤害，最后一击冻结敌人\\r\\n斩杀：冰封粉碎，造成1200%攻击力的物理伤害\\r\\n充能：使用必杀技时回复250点动能，必杀技结束后每0.25秒回复30点动能，持续10秒\\r\\n开启消耗能量：125', '高速拔刀斩击\\r\\n消耗200动能可以连续打出强化斩击\\r\\n动能最大值为1000，角色在场时动能会缓慢恢复\\r\\n斩击：50%攻击力物理伤害\\r\\n强化斩击：100%攻击力物理伤害+200%攻击力冰冻元素伤害\\r\\n突进：100%攻击力物理伤害', '快速瞬移躲避敌人攻击\\r\\n白影：极限闪避时召唤寒冰残像，残像1秒后爆炸，对周围敌人造成200%攻击力的冰冻元素伤害，冷却时间15秒', '角色自动受被动技能加成', '置于队长位时，全队受到加成']\n"
    }
   ],
   "source": [
    "soup = souplist[1]"
   ]
  },
  {
   "cell_type": "code",
   "execution_count": 191,
   "metadata": {
    "tags": []
   },
   "outputs": [],
   "source": [
    "title       = [x for x in [content.get_text() for content in soup.findAll('div',class_='valk-details-ji')][0].split('-') if len(x) < 5]\n",
    "substance = content.get_text() for content in "
   ]
  },
  {
   "cell_type": "code",
   "execution_count": 192,
   "metadata": {},
   "outputs": [
    {
     "output_type": "execute_result",
     "data": {
      "text/plain": "['\\n\\n\\n\\n\\n-普通攻击-\\n[寒樱斩]\\n\\n\\n\\n快速五段斩，每段命中时回复60点动能\\r\\n一段：50%攻击力物理伤害\\r\\n二段：共计80%攻击力物理伤害\\r\\n三段：120%攻击力物理伤害\\r\\n四段：共计120%攻击力物理伤害\\r\\n五段：造成250%攻击力的冰冻元素伤害\\n\\n\\n\\n\\n\\n\\n[冻气斩 解锁：S]\\n\\r\\n敌人护盾被击破时QTE出场，造成冰冻伤害并冻结敌人\\n\\n\\n详细数据\\n\\n\\r\\n                                        敌人护盾被击破时QTE出场，发射寒冰剑气，造成600%冰冻元素伤害并冻结敌人4秒                                    \\n\\n\\n\\n\\n\\n[六花散乱 解锁：SS]\\n\\r\\n普通攻击暴击时回复动能\\n\\n\\n详细数据\\n\\n\\r\\n                                        普通攻击暴击时回复15.0点动能                                    \\n\\n\\n\\n\\n\\n[冰魄 解锁：S]\\n普通攻击每击额外造成冰冻伤害，前四段攻击速度提高，使用第五击时伤害提高一段时间\\n\\n\\n详细数据\\n\\n\\r\\n                                        普通攻击额外造成35%攻击力冰冻元素伤害，前四击期间攻击速度提高30%，使用第五击时，角色获得强化，造成的全伤害提高30%，持续8秒                                    \\n\\n\\n\\n\\n\\n\\n\\n-必杀技-\\n[寒天狂舞]\\n\\n\\n\\n瞬间拔刀斩杀前方敌人\\r\\n烈风：共造成900%攻击力的冰冻元素伤害，最后一击冻结敌人\\r\\n斩杀：冰封粉碎，造成1200%攻击力的物理伤害\\r\\n充能：使用必杀技时回复250点动能，必杀技结束后每0.25秒回复30点动能，持续10秒\\r\\n开启消耗能量：125\\n\\n\\n\\n\\n\\n\\n[樱时雨 解锁：SS]\\n使用必杀技时额外回复动能\\n\\n\\n详细数据\\n\\n\\r\\n                                        使用必杀技时额外回复600点动能                                    \\n\\n\\n\\n\\n\\n[骨噬 解锁：S]\\n\\r\\n必杀技杀死敌人回复自身生命\\n\\n\\n详细数据\\n\\n\\r\\n                                        \\r\\n必杀技每杀死一个敌人回复自身550点HP                                    \\n\\n\\n\\n\\n\\n[无我 解锁：S]\\n使用必杀技后造成全伤害提高\\n\\n\\n详细数据\\n\\n\\r\\n                                        使用必杀技后角色造成的全伤害提高40.0%，持续12秒                                    \\n\\n\\n\\n\\n\\n\\n\\n-特殊攻击-\\n[零时刃闪]\\n\\n\\n\\n高速拔刀斩击\\r\\n消耗200动能可以连续打出强化斩击\\r\\n动能最大值为1000，角色在场时动能会缓慢恢复\\r\\n斩击：50%攻击力物理伤害\\r\\n强化斩击：100%攻击力物理伤害+200%攻击力冰冻元素伤害\\r\\n突进：100%攻击力物理伤害\\n\\n\\n\\n\\n\\n\\n[落樱缤纷 解锁：S]\\n\\r\\n出场时对周围敌人造成冰冻伤害。出场技和QTE命中时回复动能\\t\\t\\t\\t\\t\\t\\t\\t\\t\\r\\n\\n\\n\\n详细数据\\n\\n\\r\\n                                        出场时引发寒冰爆炸，对周围敌人造成180%攻击力冰元素伤害。使用出场和QTE时，若命中敌人，则可回复205点动能\\t\\t                                    \\n\\n\\n\\n\\n\\n[花之傲骨 解锁：S]\\n普攻分支攻击期间受到的全伤害降低，强化斩击额外回复能量\\t\\t\\t\\t\\t\\t\\t\\t\\r\\n\\n\\n\\n详细数据\\n\\n\\r\\n                                        普通攻击和分支攻击期间抗打断力提高，受到的全伤害降低40.0%，每次使用强化斩击，回复1.5点能量\\t                                    \\n\\n\\n\\n\\n\\n[冻牙 解锁：S]\\n有动能时分支攻击伤害提高\\n\\n\\n详细数据\\n\\n\\r\\n                                        强化斩击每击额外造成300%攻击力的冰冻元素伤害                                    \\n\\n\\n\\n\\n\\n\\n\\n-',\n '-\\n[虚影步]\\n\\n\\n\\n快速瞬移躲避敌人攻击\\r\\n白影：极限',\n '时召唤寒冰残像，残像1秒后爆炸，对周围敌人造成200%攻击力的冰冻元素伤害，冷却时间15秒\\n\\n\\n\\n\\n\\n\\n[心意通明 解锁：S]\\n残像冷却时间降低\\n\\n\\n详细数据\\n\\n\\r\\n                                        ',\n '效果冷却时间降低3.0秒                                    \\n\\n\\n\\n\\n\\n[流寒之形 解锁：SSS]\\n被残像爆炸波及的敌人概率被冻结\\n\\n\\n详细数据\\n\\n\\r\\n                                        被残像爆炸波及的敌人有100%概率被冻结4.0秒                                    \\n\\n\\n\\n\\n\\n[影息 解锁：S]\\n极限',\n '时回复动能\\n\\n\\n详细数据\\n\\n\\r\\n                                        触发极限',\n '时立即回复120点动能                                    \\n\\n\\n\\n\\n\\n\\n\\n-被动技能-\\n[被动技能-勿忘]\\n\\n\\n\\n角色自动受被动技能加成\\n\\n\\n\\n\\n\\n\\n[仁心 解锁：SS]\\n角色在场下也可以回复动能，使用必杀技后快速恢复动能\\n\\n\\n详细数据\\n\\n\\r\\n                                        角色在场下也可以回复动能，每秒回复10点。使用必杀技后，每0.25秒回复30点动能，持续10秒                                    \\n\\n\\n\\n\\n\\n[鬼武 解锁：S]\\n\\r\\n攻击眩晕、麻痹、冻结、被时空减速的敌人时伤害提高\\n\\n\\n详细数据\\n\\n\\r\\n                                        攻击眩晕、麻痹、冻结、被时空减速的敌人时物理和元素伤害提高40.0%                                    \\n\\n\\n\\n\\n\\n\\n\\n-队长技-\\n[樱之舞]\\n\\n\\n\\n置于队长位时，全队受到加成\\n\\n\\n\\n\\n\\n\\n[樱之舞]\\n全队角色，HP大于80%时，暴击率提高21%，机械属性角色全元素伤害提高36%\\n\\n\\n详细数据\\n\\n\\n\\n\\n\\n\\n\\n']"
     },
     "metadata": {},
     "execution_count": 192
    }
   ],
   "source": [
    "substance[3]"
   ]
  },
  {
   "cell_type": "code",
   "execution_count": 178,
   "metadata": {},
   "outputs": [
    {
     "output_type": "execute_result",
     "data": {
      "text/plain": "['普通攻击', '必杀技', '特殊攻击', '闪避', '被动技能', '队长技']"
     },
     "metadata": {},
     "execution_count": 178
    }
   ],
   "source": [
    "title"
   ]
  },
  {
   "cell_type": "code",
   "execution_count": 179,
   "metadata": {},
   "outputs": [
    {
     "output_type": "execute_result",
     "data": {
      "text/plain": "['\\n\\n\\n\\n\\n-普通攻击-\\n[寒樱斩]\\n\\n\\n\\n快速五段斩，每段命中时回复60点动能\\r\\n一段：50%攻击力物理伤害\\r\\n二段：共计80%攻击力物理伤害\\r\\n三段：120%攻击力物理伤害\\r\\n四段：共计120%攻击力物理伤害\\r\\n五段：造成250%攻击力的冰冻元素伤害\\n\\n\\n\\n\\n\\n\\n[冻气斩 解锁：S]\\n\\r\\n敌人护盾被击破时QTE出场，造成冰冻伤害并冻结敌人\\n\\n\\n详细数据\\n\\n\\r\\n                                        敌人护盾被击破时QTE出场，发射寒冰剑气，造成600%冰冻元素伤害并冻结敌人4秒                                    \\n\\n\\n\\n\\n\\n[六花散乱 解锁：SS]\\n\\r\\n普通攻击暴击时回复动能\\n\\n\\n详细数据\\n\\n\\r\\n                                        普通攻击暴击时回复15.0点动能                                    \\n\\n\\n\\n\\n\\n[冰魄 解锁：S]\\n普通攻击每击额外造成冰冻伤害，前四段攻击速度提高，使用第五击时伤害提高一段时间\\n\\n\\n详细数据\\n\\n\\r\\n                                        普通攻击额外造成35%攻击力冰冻元素伤害，前四击期间攻击速度提高30%，使用第五击时，角色获得强化，造成的全伤害提高30%，持续8秒                                    \\n\\n\\n\\n\\n\\n\\n\\n-必杀技-\\n[寒天狂舞]\\n\\n\\n\\n瞬间拔刀斩杀前方敌人\\r\\n烈风：共造成900%攻击力的冰冻元素伤害，最后一击冻结敌人\\r\\n斩杀：冰封粉碎，造成1200%攻击力的物理伤害\\r\\n充能：使用必杀技时回复250点动能，必杀技结束后每0.25秒回复30点动能，持续10秒\\r\\n开启消耗能量：125\\n\\n\\n\\n\\n\\n\\n[樱时雨 解锁：SS]\\n使用必杀技时额外回复动能\\n\\n\\n详细数据\\n\\n\\r\\n                                        使用必杀技时额外回复600点动能                                    \\n\\n\\n\\n\\n\\n[骨噬 解锁：S]\\n\\r\\n必杀技杀死敌人回复自身生命\\n\\n\\n详细数据\\n\\n\\r\\n                                        \\r\\n必杀技每杀死一个敌人回复自身550点HP                                    \\n\\n\\n\\n\\n\\n[无我 解锁：S]\\n使用必杀技后造成全伤害提高\\n\\n\\n详细数据\\n\\n\\r\\n                                        使用必杀技后角色造成的全伤害提高40.0%，持续12秒                                    \\n\\n\\n\\n\\n\\n\\n\\n-特殊攻击-\\n[零时刃闪]\\n\\n\\n\\n高速拔刀斩击\\r\\n消耗200动能可以连续打出强化斩击\\r\\n动能最大值为1000，角色在场时动能会缓慢恢复\\r\\n斩击：50%攻击力物理伤害\\r\\n强化斩击：100%攻击力物理伤害+200%攻击力冰冻元素伤害\\r\\n突进：100%攻击力物理伤害\\n\\n\\n\\n\\n\\n\\n[落樱缤纷 解锁：S]\\n\\r\\n出场时对周围敌人造成冰冻伤害。出场技和QTE命中时回复动能\\t\\t\\t\\t\\t\\t\\t\\t\\t\\r\\n\\n\\n\\n详细数据\\n\\n\\r\\n                                        出场时引发寒冰爆炸，对周围敌人造成180%攻击力冰元素伤害。使用出场和QTE时，若命中敌人，则可回复205点动能\\t\\t                                    \\n\\n\\n\\n\\n\\n[花之傲骨 解锁：S]\\n普攻分支攻击期间受到的全伤害降低，强化斩击额外回复能量\\t\\t\\t\\t\\t\\t\\t\\t\\r\\n\\n\\n\\n详细数据\\n\\n\\r\\n                                        普通攻击和分支攻击期间抗打断力提高，受到的全伤害降低40.0%，每次使用强化斩击，回复1.5点能量\\t                                    \\n\\n\\n\\n\\n\\n[冻牙 解锁：S]\\n有动能时分支攻击伤害提高\\n\\n\\n详细数据\\n\\n\\r\\n                                        强化斩击每击额外造成300%攻击力的冰冻元素伤害                                    \\n\\n\\n\\n\\n\\n\\n\\n-闪避-\\n[虚影步]\\n\\n\\n\\n快速瞬移躲避敌人攻击\\r\\n白影：极限闪避时召唤寒冰残像，残像1秒后爆炸，对周围敌人造成200%攻击力的冰冻元素伤害，冷却时间15秒\\n\\n\\n\\n\\n\\n\\n[心意通明 解锁：S]\\n残像冷却时间降低\\n\\n\\n详细数据\\n\\n\\r\\n                                        闪避效果冷却时间降低3.0秒                                    \\n\\n\\n\\n\\n\\n[流寒之形 解锁：SSS]\\n被残像爆炸波及的敌人概率被冻结\\n\\n\\n详细数据\\n\\n\\r\\n                                        被残像爆炸波及的敌人有100%概率被冻结4.0秒                                    \\n\\n\\n\\n\\n\\n[影息 解锁：S]\\n极限闪避时回复动能\\n\\n\\n详细数据\\n\\n\\r\\n                                        触发极限闪避时立即回复120点动能                                    \\n\\n\\n\\n\\n\\n\\n\\n-被动技能-\\n[被动技能-勿忘]\\n\\n\\n\\n角色自动受被动技能加成\\n\\n\\n\\n\\n\\n\\n[仁心 解锁：SS]\\n角色在场下也可以回复动能，使用必杀技后快速恢复动能\\n\\n\\n详细数据\\n\\n\\r\\n                                        角色在场下也可以回复动能，每秒回复10点。使用必杀技后，每0.25秒回复30点动能，持续10秒                                    \\n\\n\\n\\n\\n\\n[鬼武 解锁：S]\\n\\r\\n攻击眩晕、麻痹、冻结、被时空减速的敌人时伤害提高\\n\\n\\n详细数据\\n\\n\\r\\n                                        攻击眩晕、麻痹、冻结、被时空减速的敌人时物理和元素伤害提高40.0%                                    \\n\\n\\n\\n\\n\\n\\n\\n-队长技-\\n[樱之舞]\\n\\n\\n\\n置于队长位时，全队受到加成\\n\\n\\n\\n\\n\\n\\n[樱之舞]\\n全队角色，HP大于80%时，暴击率提高21%，机械属性角色全元素伤害提高36%\\n\\n\\n详细数据\\n\\n\\n\\n\\n\\n\\n\\n']"
     },
     "metadata": {},
     "execution_count": 179
    }
   ],
   "source": [
    "substance"
   ]
  },
  {
   "cell_type": "code",
   "execution_count": null,
   "metadata": {},
   "outputs": [],
   "source": []
  }
 ],
 "metadata": {
  "language_info": {
   "codemirror_mode": {
    "name": "ipython",
    "version": 3
   },
   "file_extension": ".py",
   "mimetype": "text/x-python",
   "name": "python",
   "nbconvert_exporter": "python",
   "pygments_lexer": "ipython3",
   "version": "3.7.7-final"
  },
  "orig_nbformat": 2,
  "kernelspec": {
   "name": "python37764bitwebscrapingconda7e4b416cfac74079af05761bd3c05317",
   "display_name": "Python 3.7.7 64-bit ('web_scraping': conda)"
  }
 },
 "nbformat": 4,
 "nbformat_minor": 2
}