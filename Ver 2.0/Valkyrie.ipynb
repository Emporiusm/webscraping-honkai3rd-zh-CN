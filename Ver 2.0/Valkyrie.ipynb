{
 "cells": [
  {
   "cell_type": "code",
   "execution_count": 1,
   "metadata": {},
   "outputs": [],
   "source": [
    "from bs4 import BeautifulSoup\n",
    "import re\n",
    "import pandas as pd\n",
    "import urllib.request\n",
    "from urllib.request import urlopen"
   ]
  },
  {
   "cell_type": "code",
   "execution_count": 2,
   "metadata": {},
   "outputs": [],
   "source": [
    "pages       = range(100)\n",
    "urls        = ['https://3rdguide.com/web/valk/detail?id=' + str(page) for page in pages]\n",
    "htmls       = [urlopen(url).read() for url in urls]\n",
    "souplist    = [BeautifulSoup(html.decode('utf-8'),'html.parser') for html in htmls]"
   ]
  },
  {
   "cell_type": "code",
   "execution_count": 31,
   "metadata": {},
   "outputs": [],
   "source": [
    "soup = souplist[1]"
   ]
  },
  {
   "cell_type": "code",
   "execution_count": null,
   "metadata": {},
   "outputs": [],
   "source": [
    "dic = {}\n",
    "dic.update(enumerate(soup.stripped_strings))"
   ]
  },
  {
   "cell_type": "code",
   "execution_count": 67,
   "metadata": {},
   "outputs": [],
   "source": [
    "name = dic.get(8)"
   ]
  },
  {
   "cell_type": "code",
   "execution_count": 68,
   "metadata": {},
   "outputs": [
    {
     "output_type": "execute_result",
     "data": {
      "text/plain": "{'B': ['--', '--', '--', '--', '--'],\n 'A': ['--', '--', '--', '--', '--'],\n 'S': ['1203', '235', '451', '96', '48'],\n 'SS': ['1403', '245', '526', '112', '56'],\n 'SSS': ['1604', '256', '604', '128', '64']}"
     },
     "metadata": {},
     "execution_count": 68
    }
   ],
   "source": [
    "header = ['hp','sp','atk','dfs','crt']\n",
    "b   = [dic.get(x) for x in range(14,19)]\n",
    "a   = [dic.get(x) for x in range(19,24)]\n",
    "s   = [dic.get(x) for x in range(24,29)]\n",
    "ss  = [dic.get(x) for x in range(29,34)]\n",
    "sss = [dic.get(x) for x in range(34,39)]\n",
    "\n",
    "for item in header:\n",
    "    dic = {}\n",
    "    dic.update()"
   ]
  },
  {
   "cell_type": "code",
   "execution_count": 71,
   "metadata": {},
   "outputs": [],
   "source": [
    "df = pd.DataFrame()"
   ]
  },
  {
   "cell_type": "code",
   "execution_count": 72,
   "metadata": {},
   "outputs": [
    {
     "output_type": "execute_result",
     "data": {
      "text/plain": "Index([], dtype='object')"
     },
     "metadata": {},
     "execution_count": 72
    }
   ],
   "source": [
    "df.columns[]"
   ]
  },
  {
   "cell_type": "code",
   "execution_count": null,
   "metadata": {},
   "outputs": [],
   "source": []
  }
 ],
 "metadata": {
  "language_info": {
   "codemirror_mode": {
    "name": "ipython",
    "version": 3
   },
   "file_extension": ".py",
   "mimetype": "text/x-python",
   "name": "python",
   "nbconvert_exporter": "python",
   "pygments_lexer": "ipython3",
   "version": "3.7.7-final"
  },
  "orig_nbformat": 2,
  "kernelspec": {
   "name": "python37764bitwebscrapingconda7e4b416cfac74079af05761bd3c05317",
   "display_name": "Python 3.7.7 64-bit ('web_scraping': conda)"
  }
 },
 "nbformat": 4,
 "nbformat_minor": 2
}