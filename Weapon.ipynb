{
 "cells": [
  {
   "cell_type": "code",
   "execution_count": 1,
   "metadata": {},
   "outputs": [
    {
     "output_type": "stream",
     "name": "stdout",
     "text": "1 - 2nd圣遗物（旧） completed!\n2 - 索尔之锤 completed!\n3 - 超电磁手炮 completed!\n4 - 烈焰毁灭者 completed!\n5 - 光与影 completed!\n6 - 连山守护 completed!\n7 - 能量跃迁者 completed!\n8 - 雷刀·鬼角（旧） completed!\n9 - 原型·妖精之弓 completed!\n10 - 3rd圣遗物 completed!\n11 - 雷切 completed!\n12 - 磁暴·斩 completed!\n13 - 反力场打刀11式 completed!\n14 - 虚无之刃 completed!\n15 - 丹朱剑 completed!\n16 - 高周波切割刀 completed!\n17 - 藏锋 completed!\n18 - 仿灵刀·冰昙天 completed!\n19 - 灵刀·樱吹雪（旧） completed!\n20 - 妖精剑·希尔文 completed!\n21 - 雨后誓言 completed!\n22 - 5th圣遗物 completed!\n23 - 百手巨人初型 completed!\n24 - 重装小兔19C completed!\n25 - 核心技能炮Delta completed!\n26 - 尤弥尔之腕 completed!\n27 -  completed!\n28 - 蚩尤巨炮 completed!\n29 - 量子毁灭者Ⅱ型 completed!\n30 - 火刀·真田 completed!\n31 - 提尔的断腕 completed!\n32 - 歼星者19C completed!\n33 - 尼德霍格翼爪 completed!\n34 - 7th圣遗物 completed!\n35 - 鲜血之舞 completed!\n36 - 日炎大剑 completed!\n37 - 极光斩舰刀 completed!\n38 -  completed!\n39 - 牛鬼切·长光 completed!\n40 - 巴鲁蒙格 completed!\n41 - 犹大的誓约 completed!\n42 - 仿犹大·血之拥抱 completed!\n43 - 樱花的誓约 completed!\n44 - 11th圣遗物 completed!\n45 - USP45 completed!\n46 - USP改 completed!\n47 - M1911 completed!\n48 - 沙漠之鹰 completed!\n49 - 柯尔特·捍卫者 completed!\n50 - 柯尔特巨蟒·改 completed!\n51 - 水妖精Ⅰ型 completed!\n52 - 水妖精Ⅱ型 completed!\n53 - 火妖精Ⅰ型 completed!\n54 - 火妖精Ⅱ型 completed!\n55 - 试做型脉冲手枪 completed!\n56 - 月神之守护 completed!\n57 - 莫辛纳甘日轮 completed!\n58 - 燃烧之羽 completed!\n59 - 轩辕·脉冲手枪 completed!\n60 - 暗耀者手炮 completed!\n61 - 凤枪 completed!\n62 - 圣枪·卡莲 completed!\n63 - 合金·飓风左轮 completed!\n64 - 合金·支配者手枪 completed!\n65 - 法尔尼夫爆炎 completed!\n66 - 赤鸢之翼 completed!\n67 - 簒夺者手炮 completed!\n68 - 灵枪·八重 completed!\n69 - 飓风左轮 completed!\n70 - 支配者手枪 completed!\n71 - 势州村正 completed!\n72 - 堀川国广 completed!\n73 - 妖刀雨村 completed!\n74 - 妖刀村正 completed!\n75 - 复合刀·朱雀 completed!\n76 - 复合刀·柳叶 completed!\n77 - 苗刀·电魂 completed!\n78 - 苗刀·雷妖 completed!\n79 - 脉冲太刀17式 completed!\n80 - 脉冲太刀19式 completed!\n81 - 试做型脉冲太刀 completed!\n82 - 结晶逆刃刀 completed!\n83 - 热能切割刃 completed!\n84 - 丹樱 completed!\n85 - 雷暴 completed!\n86 - 轩辕·脉冲太刀 completed!\n87 - 吸能太刀 completed!\n88 - 凰剑 completed!\n89 - 合金·暴食节刀 completed!\n90 - 合金·疾风太刀 completed!\n91 - 等离子影秀 completed!\n92 -  completed!\n93 - 地藏御魂 completed!\n94 - 暴食节刀 completed!\n95 - 疾风太刀 completed!\n96 - SU-22榴弹炮 completed!\n97 - SU-30加农炮 completed!\n98 - MiG-11诱导弹 completed!\n99 - MiG-13火箭炮 completed!\n100 -  completed!\n101 - MiG-7激光炮 completed!\n102 - 马尔科夫A型 completed!\n103 - 马尔科夫C型 completed!\n104 - 阴极子炮07式 completed!\n105 - 阴极子炮09式 completed!\n106 - 试做型脉冲火炮 completed!\n107 - 突袭者分裂导弹 completed!\n108 - X-01青眼巨蟒 completed!\n109 - 冰吼 completed!\n110 - 轩辕·脉冲火炮 completed!\n111 - 寒霜之雨 completed!\n112 - 爱酱炮 completed!\n113 - 合金·潜伏者加农 completed!\n114 - 合金·吞噬火炮 completed!\n115 - 独眼巨人初型 completed!\n116 - 地狱火Ⅲ型 completed!\n117 - 潜伏者加农 completed!\n118 - 吞噬火炮 completed!\n119 - 大剑 completed!\n120 - 融核动力剑初型 completed!\n121 - 能量大剑 completed!\n122 - 融核动力剑·改 completed!\n123 - 混种大剑16式 completed!\n124 - 混种大剑27式 completed!\n125 - 氮素结晶剑 completed!\n126 - 超重剑·冲锋 completed!\n127 - 电离共振剑 completed!\n128 - 超重剑·王蛇 completed!\n129 - 试做型脉冲大剑 completed!\n130 - 异端审问会火炬 completed!\n131 - 深紫骑士 completed!\n132 - 绯红皇后 completed!\n133 - 链齿大剑 completed!\n134 - 爱酱锤 completed!\n135 - 合金·天父大剑 completed!\n136 - 合金·背叛者巨剑 completed!\n137 - 魔龙之脊 completed!\n138 - 黎明审判 completed!\n139 - 黑轩辕剑 completed!\n140 - 天父大剑 completed!\n141 - 背叛者巨剑 completed!\n142 - 十字架 completed!\n143 - 十字架·冰弹 completed!\n144 - 火焰弹发射台 completed!\n145 - 破甲弹发射台 completed!\n146 - 冰霜之誓 completed!\n147 - 烈火之誓 completed!\n148 - 黑色粉碎者 completed!\n149 - 火天使 completed!\n150 - 雷天使 completed!\n151 - 爱酱糖 completed!\n152 - 银色切割者 completed!\n153 - 杰克灯笼 completed!\n154 - 防护腕甲 completed!\n155 - CAS-II 浪子 completed!\n156 - CAS-X 圣徒 completed!\n157 - 白星驱逐者 completed!\n158 - 百鸟问天 completed!\n159 - 断光之努亚达 completed!\n160 - 星环漩涡 completed!\n161 - 太虚之握 completed!\n162 - M134火神机枪 completed!\n163 - 埃琉德尼尔 completed!\n164 - 残火之鸢 completed!\n165 - 妖刀·赤染樱 completed!\n166 - 异型·赫尔之弓 completed!\n167 - 幽色咏叹调 completed!\n168 - 永暮双狼 completed!\n169 - 教父霸王拳 completed!\n170 - 雷刀·鬼角 completed!\n171 - 超维☆奏鸣曲 completed!\n172 - 2nd圣遗物 completed!\n173 - 天火圣裁 completed!\n174 - 开天剑 completed!\n175 -  completed!\n176 -  completed!\n177 - 空无之钥 completed!\n178 - 赫朗格尼尔 completed!\n179 - 轩辕剑 completed!\n180 - 苍玄之书 completed!\n181 - 爱酱的拐杖糖 completed!\n182 - 灵刀·樱吹雪 completed!\n183 -  completed!\n184 - 游骑兵手炮 completed!\n185 - 游骑兵腕甲 completed!\n186 - 游骑兵激光 completed!\n187 - 游骑兵十字架 completed!\n188 - 游骑兵锯齿 completed!\n189 - 狂怒者重炮 completed!\n190 - 粽叶手弩 completed!\n191 - 晓月镇魂歌 completed!\n192 - 爱酱的针筒 completed!\n193 - 伊甸之星 completed!\n194 - 血手圣徒 completed!\n195 -  completed!\n196 - 零落 completed!\n197 - 阿芙洛狄忒 completed!\n198 - 神陨剑·史尔特尔 completed!\n199 - 星空音浪 completed!\n200 - 银河追光 completed!\n201 - 律动新星 completed!\n202 - 辉刀·经津主 completed!\n203 - 基因收割者 completed!\n204 - 黑铁 completed!\n205 - 黑曜切割 completed!\n206 - 群青风暴 completed!\n207 - 赤钢 completed!\n208 - 命运钟刻 completed!\n209 - 恒霜之斯卡蒂 completed!\n210 - 翠羽落花 completed!\n211 - 天火大剑 completed!\n212 - 一条咸鱼 completed!\n213 - 破晓者·塔尔瓦 completed!\n214 - 碎星者·维克兰特 completed!\n215 - 天鹅湖 completed!\n216 - 睡美人 completed!\n217 - 童谣 completed!\n218 - 蓝色梦泡泡 completed!\n219 - 真理之钥 completed!\n220 - 御灵刀 寒狱冰天 completed!\n221 - 重磁暴·斩 completed!\n222 - 极夜之赫卡忒 completed!\n223 - 万圣颂灵枪 completed!\n224 - 天穹撕裂者 completed!\n225 -  completed!\n226 - 彼岸之扉 completed!\n227 - 阳电子手炮 completed!\n228 - 11th原典 completed!\n229 - 劫灭 completed!\n230 - 胧光之努亚达 completed!\n231 - 歼星者19C-X completed!\n232 - 魂妖刀 血樱寂灭 completed!\n233 - 幽夜狂想曲 completed!\n234 - 袖缠云 completed!\n235 - 晨曦荣辉 completed!\n236 - 天霜之斯卡蒂 completed!\n237 - 耀星 completed!\n238 - 神火试炼 completed!\n239 - 百手巨人终型 completed!\n240 - 永寂之赫勒尔 completed!\n241 - 等离子长枪 completed!\n242 - 骑士枪 completed!\n243 -  completed!\n244 -  completed!\n245 -  completed!\n246 -  completed!\n247 -  completed!\n248 -  completed!\n249 -  completed!\n250 -  completed!\n251 -  completed!\n252 -  completed!\n253 -  completed!\n254 -  completed!\n255 -  completed!\n256 -  completed!\n257 -  completed!\n258 -  completed!\n259 -  completed!\n260 -  completed!\n261 -  completed!\n262 -  completed!\n263 -  completed!\n264 -  completed!\n265 -  completed!\n266 -  completed!\n267 -  completed!\n268 -  completed!\n269 -  completed!\n270 -  completed!\n271 -  completed!\n272 -  completed!\n273 -  completed!\n274 -  completed!\n275 -  completed!\n276 -  completed!\n277 -  completed!\n278 -  completed!\n279 -  completed!\n280 -  completed!\n281 -  completed!\n282 -  completed!\n283 -  completed!\n284 -  completed!\n285 -  completed!\n286 -  completed!\n287 -  completed!\n288 -  completed!\n289 -  completed!\n290 -  completed!\n291 -  completed!\n292 -  completed!\n293 -  completed!\n294 -  completed!\n295 -  completed!\n296 -  completed!\n297 -  completed!\n298 -  completed!\n299 -  completed!\n"
    }
   ],
   "source": [
    "# -*- coding: UTF-8 -*-\n",
    "\n",
    "#import the necessary libraries\n",
    "from bs4 import BeautifulSoup\n",
    "import pandas as pd\n",
    "import urllib.request\n",
    "from urllib.request import urlopen\n",
    "\n",
    "#first create an empty dataframe\n",
    "df = pd.DataFrame()\n",
    "\n",
    "#create a variable that ranges from 1 to 300, representing the numerical id of the page derived from the url\n",
    "counter = range(1,300)\n",
    "\n",
    "#another counter for the completion announcer at the end of each loop\n",
    "c = 1\n",
    "\n",
    "for u in counter:\n",
    "    url = 'https://3rdguide.com/web/arm/detail?id=' + str(u)\n",
    "    html = urlopen(url).read()\n",
    "    html = html.decode('utf-8')\n",
    "    soup = BeautifulSoup(html,'html.parser')\n",
    "    name = soup.find('p',class_='item-1').get_text()\n",
    "    atk = soup.find('div',class_='gongji').get_text()\n",
    "    crt = soup.find('div',class_='huixin').get_text()\n",
    "    ability = soup.find_all('p',class_='mark-item-20')\n",
    "    if len(ability) == 2:\n",
    "        spec = [name,atk,crt,ability[0].get_text(),ability[1].get_text()]\n",
    "        sp = pd.DataFrame(spec).transpose()\n",
    "        df = df.append(sp)\n",
    "        df.to_excel('weapon.xlsx')\n",
    "    if len(ability) == 1:\n",
    "        spec = [name,atk,crt,ability[0].get_text()]\n",
    "        sp = pd.DataFrame(spec).transpose()\n",
    "        df = df.append(sp)\n",
    "    print(str(c) + ' - ' + name + ' completed!')\n",
    "    c = c + 1\n",
    "\n",
    "#create the mapper dict for the renaming of columns\n",
    "columns={\n",
    "    '0':'武器名稱',\n",
    "    '1':'攻擊',\n",
    "    '2':'會心',\n",
    "    '3':'技能一',\n",
    "    '4':'技能二'\n",
    "}\n",
    "\n",
    "#trim whitespaces\n",
    "df[3] = df[3].str.strip()\n",
    "df[4] = df[4].str.strip()\n",
    "\n",
    "#renaming the columns\n",
    "df = df.rename(columns=columns)\n",
    "\n",
    "#export the excel file\n",
    "df.to_csv('weapon.csv')\n",
    "exit()"
   ]
  }
 ],
 "metadata": {
  "language_info": {
   "codemirror_mode": {
    "name": "ipython",
    "version": 3
   },
   "file_extension": ".py",
   "mimetype": "text/x-python",
   "name": "python",
   "nbconvert_exporter": "python",
   "pygments_lexer": "ipython3",
   "version": "3.7.7-final"
  },
  "orig_nbformat": 2,
  "kernelspec": {
   "name": "python3",
   "display_name": "Python 3"
  }
 },
 "nbformat": 4,
 "nbformat_minor": 2
}